{
 "cells": [
  {
   "cell_type": "markdown",
   "id": "a96e1d7b",
   "metadata": {
    "execution": {
     "iopub.execute_input": "2023-06-12T12:09:47.331329Z",
     "iopub.status.busy": "2023-06-12T12:09:47.330924Z",
     "iopub.status.idle": "2023-06-12T12:09:47.378742Z",
     "shell.execute_reply": "2023-06-12T12:09:47.376876Z",
     "shell.execute_reply.started": "2023-06-12T12:09:47.331297Z"
    },
    "papermill": {
     "duration": 0.016147,
     "end_time": "2023-07-28T06:08:56.728053",
     "exception": false,
     "start_time": "2023-07-28T06:08:56.711906",
     "status": "completed"
    },
    "tags": []
   },
   "source": [
    "##### Notebook 2: Model Training\n",
    "\n",
    "Welcome to Notebook 2 of this recommendation system project!\n",
    "\n",
    "In Notebook 1, we performed exploratory data analysis (EDA), and visualized various aspects of the data to gain insights into our anime recommendation problem.\n",
    "\n",
    "In this notebook, we will focus on training the recommendation model. By separating the model training into a separate notebook, we ensure better memory management and organization of the project.\n",
    "\n",
    "Let's dive in!\n",
    "\n",
    "Note: If you haven't gone through Notebook 1 yet, I highly recommend you do so to understand the data and insights gained before moving on to the model training phase.\n",
    "\n",
    "[Click here to access Notebook 1: Exploratory Data Analysis and Dataset Preparation](https://www.kaggle.com/code/dbdmobile/anime-recommendation-1)"
   ]
  },
  {
   "cell_type": "code",
   "execution_count": 2,
   "id": "aa28d022",
   "metadata": {
    "execution": {
     "iopub.execute_input": "2023-07-28T06:08:56.758012Z",
     "iopub.status.busy": "2023-07-28T06:08:56.757649Z",
     "iopub.status.idle": "2023-07-28T06:09:02.632158Z",
     "shell.execute_reply": "2023-07-28T06:09:02.631033Z"
    },
    "papermill": {
     "duration": 5.892295,
     "end_time": "2023-07-28T06:09:02.634794",
     "exception": false,
     "start_time": "2023-07-28T06:08:56.742499",
     "status": "completed"
    },
    "tags": []
   },
   "outputs": [],
   "source": [
    "!pip install wordcloud -q"
   ]
  },
  {
   "cell_type": "code",
   "execution_count": 3,
   "id": "944350fa",
   "metadata": {
    "_cell_guid": "b1076dfc-b9ad-4769-8c92-a6c4dae69d19",
    "_uuid": "8f2839f25d086af736a60e9eeb907d3b93b6e0e5",
    "execution": {
     "iopub.execute_input": "2023-07-28T06:09:02.663723Z",
     "iopub.status.busy": "2023-07-28T06:09:02.663428Z",
     "iopub.status.idle": "2023-07-28T06:09:46.599778Z",
     "shell.execute_reply": "2023-07-28T06:09:46.598777Z"
    },
    "papermill": {
     "duration": 43.953781,
     "end_time": "2023-07-28T06:09:46.602406",
     "exception": false,
     "start_time": "2023-07-28T06:09:02.648625",
     "status": "completed"
    },
    "tags": []
   },
   "outputs": [],
   "source": [
    "### Basic libraries\n",
    "import numpy as np\n",
    "import pandas as pd\n",
    "import matplotlib.pyplot as plt\n",
    "%matplotlib inline\n",
    "import pickle\n",
    "import warnings\n",
    "warnings.filterwarnings(action='ignore')\n",
    "\n",
    "# Data Preprocessing\n",
    "from sklearn.preprocessing import MinMaxScaler\n",
    "from sklearn.preprocessing import LabelEncoder\n",
    "\n",
    "# Model Training\n",
    "from sklearn.utils import shuffle\n",
    "from sklearn.model_selection import train_test_split\n",
    "import tensorflow as tf\n",
    "\n",
    "## Import necessary modules for collaborative filtering\n",
    "from tensorflow.keras.layers import Input, Embedding, Dot, Flatten, Dense\n",
    "from tensorflow.keras.models import Model\n",
    "from tensorflow.keras.optimizers import Adam\n",
    "from wordcloud import WordCloud\n",
    "from collections import defaultdict\n",
    "from collections import Counter\n",
    "\n",
    "## Import necessary modules for content-based filtering\n",
    "from sklearn.feature_extraction.text import TfidfVectorizer\n",
    "from sklearn.metrics.pairwise import linear_kernel"
   ]
  },
  {
   "cell_type": "code",
   "execution_count": 4,
   "id": "b1fb0487",
   "metadata": {
    "execution": {
     "iopub.execute_input": "2023-07-28T06:09:46.631500Z",
     "iopub.status.busy": "2023-07-28T06:09:46.630983Z",
     "iopub.status.idle": "2023-07-28T06:10:11.241129Z",
     "shell.execute_reply": "2023-07-28T06:10:11.240264Z"
    },
    "papermill": {
     "duration": 24.627243,
     "end_time": "2023-07-28T06:10:11.243271",
     "exception": false,
     "start_time": "2023-07-28T06:09:46.616028",
     "status": "completed"
    },
    "tags": []
   },
   "outputs": [
    {
     "name": "stdout",
     "output_type": "stream",
     "text": [
      "Shape of the Dataset: (24325191, 3)\n"
     ]
    },
    {
     "data": {
      "text/html": [
       "<div>\n",
       "<style scoped>\n",
       "    .dataframe tbody tr th:only-of-type {\n",
       "        vertical-align: middle;\n",
       "    }\n",
       "\n",
       "    .dataframe tbody tr th {\n",
       "        vertical-align: top;\n",
       "    }\n",
       "\n",
       "    .dataframe thead th {\n",
       "        text-align: right;\n",
       "    }\n",
       "</style>\n",
       "<table border=\"1\" class=\"dataframe\">\n",
       "  <thead>\n",
       "    <tr style=\"text-align: right;\">\n",
       "      <th></th>\n",
       "      <th>user_id</th>\n",
       "      <th>anime_id</th>\n",
       "      <th>rating</th>\n",
       "    </tr>\n",
       "  </thead>\n",
       "  <tbody>\n",
       "    <tr>\n",
       "      <th>0</th>\n",
       "      <td>1</td>\n",
       "      <td>21</td>\n",
       "      <td>9</td>\n",
       "    </tr>\n",
       "    <tr>\n",
       "      <th>1</th>\n",
       "      <td>1</td>\n",
       "      <td>48</td>\n",
       "      <td>7</td>\n",
       "    </tr>\n",
       "    <tr>\n",
       "      <th>2</th>\n",
       "      <td>1</td>\n",
       "      <td>320</td>\n",
       "      <td>5</td>\n",
       "    </tr>\n",
       "    <tr>\n",
       "      <th>3</th>\n",
       "      <td>1</td>\n",
       "      <td>49</td>\n",
       "      <td>8</td>\n",
       "    </tr>\n",
       "    <tr>\n",
       "      <th>4</th>\n",
       "      <td>1</td>\n",
       "      <td>304</td>\n",
       "      <td>8</td>\n",
       "    </tr>\n",
       "  </tbody>\n",
       "</table>\n",
       "</div>"
      ],
      "text/plain": [
       "   user_id  anime_id  rating\n",
       "0        1        21       9\n",
       "1        1        48       7\n",
       "2        1       320       5\n",
       "3        1        49       8\n",
       "4        1       304       8"
      ]
     },
     "execution_count": 4,
     "metadata": {},
     "output_type": "execute_result"
    }
   ],
   "source": [
    "# Load the dataset\n",
    "import pandas as pd\n",
    "df=pd.read_csv('../model/users-score-2023.csv', usecols=[\"user_id\",\"anime_id\",\"rating\"])\n",
    "print(\"Shape of the Dataset:\",df.shape)\n",
    "df.head()"
   ]
  },
  {
   "cell_type": "code",
   "execution_count": 5,
   "id": "b2296282",
   "metadata": {
    "execution": {
     "iopub.execute_input": "2023-07-28T06:10:11.274497Z",
     "iopub.status.busy": "2023-07-28T06:10:11.274207Z",
     "iopub.status.idle": "2023-07-28T06:10:15.851242Z",
     "shell.execute_reply": "2023-07-28T06:10:15.850368Z"
    },
    "papermill": {
     "duration": 4.594875,
     "end_time": "2023-07-28T06:10:15.853531",
     "exception": false,
     "start_time": "2023-07-28T06:10:11.258656",
     "status": "completed"
    },
    "tags": []
   },
   "outputs": [
    {
     "name": "stdout",
     "output_type": "stream",
     "text": [
      "Duplicated Rows:\n",
      "Empty DataFrame\n",
      "Columns: [user_id, anime_id, rating]\n",
      "Index: []\n"
     ]
    }
   ],
   "source": [
    "# Checking if there are any duplicate rows\n",
    "duplicated_rows = df[df.duplicated()]\n",
    "print(\"Duplicated Rows:\")\n",
    "print(duplicated_rows)"
   ]
  },
  {
   "cell_type": "code",
   "execution_count": 6,
   "id": "4d80a721",
   "metadata": {
    "execution": {
     "iopub.execute_input": "2023-07-28T06:10:15.883213Z",
     "iopub.status.busy": "2023-07-28T06:10:15.882863Z",
     "iopub.status.idle": "2023-07-28T06:10:15.912963Z",
     "shell.execute_reply": "2023-07-28T06:10:15.912105Z"
    },
    "papermill": {
     "duration": 0.047536,
     "end_time": "2023-07-28T06:10:15.915084",
     "exception": false,
     "start_time": "2023-07-28T06:10:15.867548",
     "status": "completed"
    },
    "tags": []
   },
   "outputs": [
    {
     "name": "stdout",
     "output_type": "stream",
     "text": [
      "Average Score: 7.622930072779285\n"
     ]
    }
   ],
   "source": [
    "# Calculating the average score\n",
    "avg_score = np.mean(df['rating'])\n",
    "print('Average Score:', avg_score)"
   ]
  },
  {
   "cell_type": "markdown",
   "id": "1ef072bd",
   "metadata": {
    "papermill": {
     "duration": 0.013813,
     "end_time": "2023-07-28T06:10:15.943426",
     "exception": false,
     "start_time": "2023-07-28T06:10:15.929613",
     "status": "completed"
    },
    "tags": []
   },
   "source": [
    "# Data Preprocessing"
   ]
  },
  {
   "cell_type": "code",
   "execution_count": 7,
   "id": "049d4783",
   "metadata": {
    "execution": {
     "iopub.execute_input": "2023-07-28T06:10:15.973155Z",
     "iopub.status.busy": "2023-07-28T06:10:15.972851Z",
     "iopub.status.idle": "2023-07-28T06:10:16.325781Z",
     "shell.execute_reply": "2023-07-28T06:10:16.324815Z"
    },
    "papermill": {
     "duration": 0.371296,
     "end_time": "2023-07-28T06:10:16.328520",
     "exception": false,
     "start_time": "2023-07-28T06:10:15.957224",
     "status": "completed"
    },
    "tags": []
   },
   "outputs": [],
   "source": [
    "# Scaling our \"rating\" column\n",
    "# Create a MinMaxScaler object\n",
    "scaler = MinMaxScaler(feature_range=(0, 1))\n",
    "\n",
    "# Scale the 'score' column between 0 and 1\n",
    "df['scaled_score'] = scaler.fit_transform(df[['rating']])"
   ]
  },
  {
   "cell_type": "code",
   "execution_count": 8,
   "id": "46187591",
   "metadata": {
    "execution": {
     "iopub.execute_input": "2023-07-28T06:10:16.359183Z",
     "iopub.status.busy": "2023-07-28T06:10:16.358830Z",
     "iopub.status.idle": "2023-07-28T06:10:28.696479Z",
     "shell.execute_reply": "2023-07-28T06:10:28.695403Z"
    },
    "papermill": {
     "duration": 12.355881,
     "end_time": "2023-07-28T06:10:28.698964",
     "exception": false,
     "start_time": "2023-07-28T06:10:16.343083",
     "status": "completed"
    },
    "tags": []
   },
   "outputs": [
    {
     "name": "stdout",
     "output_type": "stream",
     "text": [
      "Number of unique users: 270033, Number of unique anime: 16500\n",
      "Minimum rating: 1, Maximum rating: 10\n"
     ]
    }
   ],
   "source": [
    "# Encoding categorical data\n",
    "\n",
    "## Encoding user IDs\n",
    "user_encoder = LabelEncoder()\n",
    "df[\"user_encoded\"] = user_encoder.fit_transform(df[\"user_id\"])\n",
    "num_users = len(user_encoder.classes_)\n",
    "\n",
    "## Encoding anime IDs\n",
    "anime_encoder = LabelEncoder()\n",
    "df[\"anime_encoded\"] = anime_encoder.fit_transform(df[\"anime_id\"])\n",
    "num_animes = len(anime_encoder.classes_)\n",
    "\n",
    "# Printing dataset information\n",
    "print(\"Number of unique users: {}, Number of unique anime: {}\".format(num_users, num_animes))\n",
    "print(\"Minimum rating: {}, Maximum rating: {}\".format(min(df['rating']), max(df['rating'])))"
   ]
  },
  {
   "cell_type": "markdown",
   "id": "1bb17f4e",
   "metadata": {
    "papermill": {
     "duration": 0.016828,
     "end_time": "2023-07-28T06:10:28.732128",
     "exception": false,
     "start_time": "2023-07-28T06:10:28.715300",
     "status": "completed"
    },
    "tags": []
   },
   "source": [
    "# Model training (collaborative filtering)"
   ]
  },
  {
   "cell_type": "code",
   "execution_count": 9,
   "id": "55585222",
   "metadata": {
    "execution": {
     "iopub.execute_input": "2023-07-28T06:10:28.766240Z",
     "iopub.status.busy": "2023-07-28T06:10:28.765461Z",
     "iopub.status.idle": "2023-07-28T06:10:33.462121Z",
     "shell.execute_reply": "2023-07-28T06:10:33.461229Z"
    },
    "papermill": {
     "duration": 4.716308,
     "end_time": "2023-07-28T06:10:33.464471",
     "exception": false,
     "start_time": "2023-07-28T06:10:28.748163",
     "status": "completed"
    },
    "tags": []
   },
   "outputs": [
    {
     "name": "stdout",
     "output_type": "stream",
     "text": [
      "Shape of X: (24325191, 2)\n",
      "Shape of y: (24325191,)\n"
     ]
    }
   ],
   "source": [
    "# Shuffle the dataset\n",
    "df = shuffle(df, random_state=100)\n",
    "\n",
    "# Create feature matrix X and target variable y\n",
    "X = df[['user_encoded', 'anime_encoded']].values\n",
    "y = df[\"scaled_score\"].values\n",
    "\n",
    "# Printing dataset information\n",
    "print(\"Shape of X:\", X.shape)\n",
    "print(\"Shape of y:\", y.shape)"
   ]
  },
  {
   "cell_type": "code",
   "execution_count": 10,
   "id": "1a65dd08",
   "metadata": {
    "execution": {
     "iopub.execute_input": "2023-07-28T06:10:33.494582Z",
     "iopub.status.busy": "2023-07-28T06:10:33.494285Z",
     "iopub.status.idle": "2023-07-28T06:10:36.671040Z",
     "shell.execute_reply": "2023-07-28T06:10:36.670078Z"
    },
    "papermill": {
     "duration": 3.194518,
     "end_time": "2023-07-28T06:10:36.673253",
     "exception": false,
     "start_time": "2023-07-28T06:10:33.478735",
     "status": "completed"
    },
    "tags": []
   },
   "outputs": [
    {
     "name": "stdout",
     "output_type": "stream",
     "text": [
      "Number of samples in the training set: 24315191\n",
      "Number of samples in the test set: 10000\n"
     ]
    }
   ],
   "source": [
    "test_set_size = 10000  # Number of samples to include in the test set\n",
    "\n",
    "X_train, X_test, y_train, y_test = train_test_split(X, y, test_size=test_set_size, random_state=73)\n",
    "\n",
    "print(\"Number of samples in the training set:\", len(y_train))\n",
    "print(\"Number of samples in the test set:\", len(y_test))"
   ]
  },
  {
   "cell_type": "code",
   "execution_count": 11,
   "id": "bf88a1e9",
   "metadata": {
    "execution": {
     "iopub.execute_input": "2023-07-28T06:10:36.703487Z",
     "iopub.status.busy": "2023-07-28T06:10:36.703184Z",
     "iopub.status.idle": "2023-07-28T06:10:36.707871Z",
     "shell.execute_reply": "2023-07-28T06:10:36.707101Z"
    },
    "papermill": {
     "duration": 0.022594,
     "end_time": "2023-07-28T06:10:36.710025",
     "exception": false,
     "start_time": "2023-07-28T06:10:36.687431",
     "status": "completed"
    },
    "tags": []
   },
   "outputs": [],
   "source": [
    "# Prepare input data for model training and evaluation\n",
    "X_train_array = [X_train[:, 0], X_train[:, 1]]\n",
    "X_test_array = [X_test[:, 0], X_test[:, 1]]"
   ]
  },
  {
   "cell_type": "code",
   "execution_count": 12,
   "id": "11b28eeb",
   "metadata": {
    "execution": {
     "iopub.execute_input": "2023-07-28T06:10:36.740515Z",
     "iopub.status.busy": "2023-07-28T06:10:36.740209Z",
     "iopub.status.idle": "2023-07-28T06:10:46.410153Z",
     "shell.execute_reply": "2023-07-28T06:10:46.408403Z"
    },
    "papermill": {
     "duration": 9.69542,
     "end_time": "2023-07-28T06:10:46.419966",
     "exception": false,
     "start_time": "2023-07-28T06:10:36.724546",
     "status": "completed"
    },
    "tags": []
   },
   "outputs": [
    {
     "name": "stdout",
     "output_type": "stream",
     "text": [
      "🔌 Attempting to connect to TPU...\n",
      "❌ TPU not found or failed to connect: Please provide a TPU Name to connect to.\n",
      "🧠 TensorFlow version: 2.17.0\n"
     ]
    }
   ],
   "source": [
    "import tensorflow as tf\n",
    "\n",
    "# Set flag to use TPU\n",
    "USE_TPU = True\n",
    "\n",
    "try:\n",
    "    if USE_TPU:\n",
    "        print(\"🔌 Attempting to connect to TPU...\")\n",
    "        # Automatically detect and connect to TPU\n",
    "        tpu_resolver = tf.distribute.cluster_resolver.TPUClusterResolver()  # No .connect() needed here\n",
    "        tf.config.experimental_connect_to_cluster(tpu_resolver)\n",
    "        tf.tpu.experimental.initialize_tpu_system(tpu_resolver)\n",
    "        tpu_strategy = tf.distribute.TPUStrategy(tpu_resolver)\n",
    "        print(\"✅ TPU initialized.\")\n",
    "    else:\n",
    "        print(\"Using CPU/GPU backend.\")\n",
    "        # If on Colab or local with GPU, show GPU info (optional)\n",
    "        # This line is specific to Jupyter or Colab\n",
    "        # You can use `!nvidia-smi` only in notebooks\n",
    "        # print(\"GPU Info:\")\n",
    "        # !nvidia-smi\n",
    "except ValueError as e:\n",
    "    print(f\"❌ TPU not found or failed to connect: {e}\")\n",
    "    USE_TPU = False\n",
    "    tpu_strategy = None\n",
    "\n",
    "# Print TensorFlow version\n",
    "print(f\"🧠 TensorFlow version: {tf.__version__}\")\n"
   ]
  },
  {
   "cell_type": "code",
   "execution_count": 13,
   "id": "e631cd46",
   "metadata": {
    "execution": {
     "iopub.execute_input": "2023-07-28T06:10:46.455903Z",
     "iopub.status.busy": "2023-07-28T06:10:46.455615Z",
     "iopub.status.idle": "2023-07-28T06:10:48.681348Z",
     "shell.execute_reply": "2023-07-28T06:10:48.680247Z"
    },
    "papermill": {
     "duration": 2.254124,
     "end_time": "2023-07-28T06:10:48.691429",
     "exception": false,
     "start_time": "2023-07-28T06:10:46.437305",
     "status": "completed"
    },
    "tags": []
   },
   "outputs": [
    {
     "data": {
      "text/html": [
       "<pre style=\"white-space:pre;overflow-x:auto;line-height:normal;font-family:Menlo,'DejaVu Sans Mono',consolas,'Courier New',monospace\"><span style=\"font-weight: bold\">Model: \"functional\"</span>\n",
       "</pre>\n"
      ],
      "text/plain": [
       "\u001b[1mModel: \"functional\"\u001b[0m\n"
      ]
     },
     "metadata": {},
     "output_type": "display_data"
    },
    {
     "data": {
      "text/html": [
       "<pre style=\"white-space:pre;overflow-x:auto;line-height:normal;font-family:Menlo,'DejaVu Sans Mono',consolas,'Courier New',monospace\">┏━━━━━━━━━━━━━━━━━━━━━┳━━━━━━━━━━━━━━━━━━━┳━━━━━━━━━━━━┳━━━━━━━━━━━━━━━━━━━┓\n",
       "┃<span style=\"font-weight: bold\"> Layer (type)        </span>┃<span style=\"font-weight: bold\"> Output Shape      </span>┃<span style=\"font-weight: bold\">    Param # </span>┃<span style=\"font-weight: bold\"> Connected to      </span>┃\n",
       "┡━━━━━━━━━━━━━━━━━━━━━╇━━━━━━━━━━━━━━━━━━━╇━━━━━━━━━━━━╇━━━━━━━━━━━━━━━━━━━┩\n",
       "│ user_encoded        │ (<span style=\"color: #00d7ff; text-decoration-color: #00d7ff\">None</span>, <span style=\"color: #00af00; text-decoration-color: #00af00\">1</span>)         │          <span style=\"color: #00af00; text-decoration-color: #00af00\">0</span> │ -                 │\n",
       "│ (<span style=\"color: #0087ff; text-decoration-color: #0087ff\">InputLayer</span>)        │                   │            │                   │\n",
       "├─────────────────────┼───────────────────┼────────────┼───────────────────┤\n",
       "│ anime_encoded       │ (<span style=\"color: #00d7ff; text-decoration-color: #00d7ff\">None</span>, <span style=\"color: #00af00; text-decoration-color: #00af00\">1</span>)         │          <span style=\"color: #00af00; text-decoration-color: #00af00\">0</span> │ -                 │\n",
       "│ (<span style=\"color: #0087ff; text-decoration-color: #0087ff\">InputLayer</span>)        │                   │            │                   │\n",
       "├─────────────────────┼───────────────────┼────────────┼───────────────────┤\n",
       "│ user_embedding      │ (<span style=\"color: #00d7ff; text-decoration-color: #00d7ff\">None</span>, <span style=\"color: #00af00; text-decoration-color: #00af00\">1</span>, <span style=\"color: #00af00; text-decoration-color: #00af00\">128</span>)    │ <span style=\"color: #00af00; text-decoration-color: #00af00\">34,564,224</span> │ user_encoded[<span style=\"color: #00af00; text-decoration-color: #00af00\">0</span>][<span style=\"color: #00af00; text-decoration-color: #00af00\">…</span> │\n",
       "│ (<span style=\"color: #0087ff; text-decoration-color: #0087ff\">Embedding</span>)         │                   │            │                   │\n",
       "├─────────────────────┼───────────────────┼────────────┼───────────────────┤\n",
       "│ anime_embedding     │ (<span style=\"color: #00d7ff; text-decoration-color: #00d7ff\">None</span>, <span style=\"color: #00af00; text-decoration-color: #00af00\">1</span>, <span style=\"color: #00af00; text-decoration-color: #00af00\">128</span>)    │  <span style=\"color: #00af00; text-decoration-color: #00af00\">2,112,000</span> │ anime_encoded[<span style=\"color: #00af00; text-decoration-color: #00af00\">0</span>]… │\n",
       "│ (<span style=\"color: #0087ff; text-decoration-color: #0087ff\">Embedding</span>)         │                   │            │                   │\n",
       "├─────────────────────┼───────────────────┼────────────┼───────────────────┤\n",
       "│ dot_product (<span style=\"color: #0087ff; text-decoration-color: #0087ff\">Dot</span>)   │ (<span style=\"color: #00d7ff; text-decoration-color: #00d7ff\">None</span>, <span style=\"color: #00af00; text-decoration-color: #00af00\">1</span>, <span style=\"color: #00af00; text-decoration-color: #00af00\">1</span>)      │          <span style=\"color: #00af00; text-decoration-color: #00af00\">0</span> │ user_embedding[<span style=\"color: #00af00; text-decoration-color: #00af00\">0</span>… │\n",
       "│                     │                   │            │ anime_embedding[<span style=\"color: #00af00; text-decoration-color: #00af00\">…</span> │\n",
       "├─────────────────────┼───────────────────┼────────────┼───────────────────┤\n",
       "│ flatten (<span style=\"color: #0087ff; text-decoration-color: #0087ff\">Flatten</span>)   │ (<span style=\"color: #00d7ff; text-decoration-color: #00d7ff\">None</span>, <span style=\"color: #00af00; text-decoration-color: #00af00\">1</span>)         │          <span style=\"color: #00af00; text-decoration-color: #00af00\">0</span> │ dot_product[<span style=\"color: #00af00; text-decoration-color: #00af00\">0</span>][<span style=\"color: #00af00; text-decoration-color: #00af00\">0</span>] │\n",
       "├─────────────────────┼───────────────────┼────────────┼───────────────────┤\n",
       "│ dense (<span style=\"color: #0087ff; text-decoration-color: #0087ff\">Dense</span>)       │ (<span style=\"color: #00d7ff; text-decoration-color: #00d7ff\">None</span>, <span style=\"color: #00af00; text-decoration-color: #00af00\">64</span>)        │        <span style=\"color: #00af00; text-decoration-color: #00af00\">128</span> │ flatten[<span style=\"color: #00af00; text-decoration-color: #00af00\">0</span>][<span style=\"color: #00af00; text-decoration-color: #00af00\">0</span>]     │\n",
       "├─────────────────────┼───────────────────┼────────────┼───────────────────┤\n",
       "│ dense_1 (<span style=\"color: #0087ff; text-decoration-color: #0087ff\">Dense</span>)     │ (<span style=\"color: #00d7ff; text-decoration-color: #00d7ff\">None</span>, <span style=\"color: #00af00; text-decoration-color: #00af00\">1</span>)         │         <span style=\"color: #00af00; text-decoration-color: #00af00\">65</span> │ dense[<span style=\"color: #00af00; text-decoration-color: #00af00\">0</span>][<span style=\"color: #00af00; text-decoration-color: #00af00\">0</span>]       │\n",
       "└─────────────────────┴───────────────────┴────────────┴───────────────────┘\n",
       "</pre>\n"
      ],
      "text/plain": [
       "┏━━━━━━━━━━━━━━━━━━━━━┳━━━━━━━━━━━━━━━━━━━┳━━━━━━━━━━━━┳━━━━━━━━━━━━━━━━━━━┓\n",
       "┃\u001b[1m \u001b[0m\u001b[1mLayer (type)       \u001b[0m\u001b[1m \u001b[0m┃\u001b[1m \u001b[0m\u001b[1mOutput Shape     \u001b[0m\u001b[1m \u001b[0m┃\u001b[1m \u001b[0m\u001b[1m   Param #\u001b[0m\u001b[1m \u001b[0m┃\u001b[1m \u001b[0m\u001b[1mConnected to     \u001b[0m\u001b[1m \u001b[0m┃\n",
       "┡━━━━━━━━━━━━━━━━━━━━━╇━━━━━━━━━━━━━━━━━━━╇━━━━━━━━━━━━╇━━━━━━━━━━━━━━━━━━━┩\n",
       "│ user_encoded        │ (\u001b[38;5;45mNone\u001b[0m, \u001b[38;5;34m1\u001b[0m)         │          \u001b[38;5;34m0\u001b[0m │ -                 │\n",
       "│ (\u001b[38;5;33mInputLayer\u001b[0m)        │                   │            │                   │\n",
       "├─────────────────────┼───────────────────┼────────────┼───────────────────┤\n",
       "│ anime_encoded       │ (\u001b[38;5;45mNone\u001b[0m, \u001b[38;5;34m1\u001b[0m)         │          \u001b[38;5;34m0\u001b[0m │ -                 │\n",
       "│ (\u001b[38;5;33mInputLayer\u001b[0m)        │                   │            │                   │\n",
       "├─────────────────────┼───────────────────┼────────────┼───────────────────┤\n",
       "│ user_embedding      │ (\u001b[38;5;45mNone\u001b[0m, \u001b[38;5;34m1\u001b[0m, \u001b[38;5;34m128\u001b[0m)    │ \u001b[38;5;34m34,564,224\u001b[0m │ user_encoded[\u001b[38;5;34m0\u001b[0m][\u001b[38;5;34m…\u001b[0m │\n",
       "│ (\u001b[38;5;33mEmbedding\u001b[0m)         │                   │            │                   │\n",
       "├─────────────────────┼───────────────────┼────────────┼───────────────────┤\n",
       "│ anime_embedding     │ (\u001b[38;5;45mNone\u001b[0m, \u001b[38;5;34m1\u001b[0m, \u001b[38;5;34m128\u001b[0m)    │  \u001b[38;5;34m2,112,000\u001b[0m │ anime_encoded[\u001b[38;5;34m0\u001b[0m]… │\n",
       "│ (\u001b[38;5;33mEmbedding\u001b[0m)         │                   │            │                   │\n",
       "├─────────────────────┼───────────────────┼────────────┼───────────────────┤\n",
       "│ dot_product (\u001b[38;5;33mDot\u001b[0m)   │ (\u001b[38;5;45mNone\u001b[0m, \u001b[38;5;34m1\u001b[0m, \u001b[38;5;34m1\u001b[0m)      │          \u001b[38;5;34m0\u001b[0m │ user_embedding[\u001b[38;5;34m0\u001b[0m… │\n",
       "│                     │                   │            │ anime_embedding[\u001b[38;5;34m…\u001b[0m │\n",
       "├─────────────────────┼───────────────────┼────────────┼───────────────────┤\n",
       "│ flatten (\u001b[38;5;33mFlatten\u001b[0m)   │ (\u001b[38;5;45mNone\u001b[0m, \u001b[38;5;34m1\u001b[0m)         │          \u001b[38;5;34m0\u001b[0m │ dot_product[\u001b[38;5;34m0\u001b[0m][\u001b[38;5;34m0\u001b[0m] │\n",
       "├─────────────────────┼───────────────────┼────────────┼───────────────────┤\n",
       "│ dense (\u001b[38;5;33mDense\u001b[0m)       │ (\u001b[38;5;45mNone\u001b[0m, \u001b[38;5;34m64\u001b[0m)        │        \u001b[38;5;34m128\u001b[0m │ flatten[\u001b[38;5;34m0\u001b[0m][\u001b[38;5;34m0\u001b[0m]     │\n",
       "├─────────────────────┼───────────────────┼────────────┼───────────────────┤\n",
       "│ dense_1 (\u001b[38;5;33mDense\u001b[0m)     │ (\u001b[38;5;45mNone\u001b[0m, \u001b[38;5;34m1\u001b[0m)         │         \u001b[38;5;34m65\u001b[0m │ dense[\u001b[38;5;34m0\u001b[0m][\u001b[38;5;34m0\u001b[0m]       │\n",
       "└─────────────────────┴───────────────────┴────────────┴───────────────────┘\n"
      ]
     },
     "metadata": {},
     "output_type": "display_data"
    },
    {
     "data": {
      "text/html": [
       "<pre style=\"white-space:pre;overflow-x:auto;line-height:normal;font-family:Menlo,'DejaVu Sans Mono',consolas,'Courier New',monospace\"><span style=\"font-weight: bold\"> Total params: </span><span style=\"color: #00af00; text-decoration-color: #00af00\">36,676,417</span> (139.91 MB)\n",
       "</pre>\n"
      ],
      "text/plain": [
       "\u001b[1m Total params: \u001b[0m\u001b[38;5;34m36,676,417\u001b[0m (139.91 MB)\n"
      ]
     },
     "metadata": {},
     "output_type": "display_data"
    },
    {
     "data": {
      "text/html": [
       "<pre style=\"white-space:pre;overflow-x:auto;line-height:normal;font-family:Menlo,'DejaVu Sans Mono',consolas,'Courier New',monospace\"><span style=\"font-weight: bold\"> Trainable params: </span><span style=\"color: #00af00; text-decoration-color: #00af00\">36,676,417</span> (139.91 MB)\n",
       "</pre>\n"
      ],
      "text/plain": [
       "\u001b[1m Trainable params: \u001b[0m\u001b[38;5;34m36,676,417\u001b[0m (139.91 MB)\n"
      ]
     },
     "metadata": {},
     "output_type": "display_data"
    },
    {
     "data": {
      "text/html": [
       "<pre style=\"white-space:pre;overflow-x:auto;line-height:normal;font-family:Menlo,'DejaVu Sans Mono',consolas,'Courier New',monospace\"><span style=\"font-weight: bold\"> Non-trainable params: </span><span style=\"color: #00af00; text-decoration-color: #00af00\">0</span> (0.00 B)\n",
       "</pre>\n"
      ],
      "text/plain": [
       "\u001b[1m Non-trainable params: \u001b[0m\u001b[38;5;34m0\u001b[0m (0.00 B)\n"
      ]
     },
     "metadata": {},
     "output_type": "display_data"
    }
   ],
   "source": [
    "def RecommenderNet(num_users, num_animes, embedding_size=128):\n",
    "    # User input layer and embedding layer\n",
    "    user = Input(name='user_encoded', shape=[1])\n",
    "    user_embedding = Embedding(name='user_embedding', input_dim=num_users, output_dim=embedding_size)(user)\n",
    "    \n",
    "    # Anime input layer and embedding layer\n",
    "    anime = Input(name='anime_encoded', shape=[1])\n",
    "    anime_embedding = Embedding(name='anime_embedding', input_dim=num_animes, output_dim=embedding_size)(anime)\n",
    "    \n",
    "    # Dot product of user and anime embeddings\n",
    "    dot_product = Dot(name='dot_product', normalize=True, axes=2)([user_embedding, anime_embedding])\n",
    "    flattened = Flatten()(dot_product)\n",
    "    \n",
    "    # Dense layers for prediction\n",
    "    dense = Dense(64, activation='relu')(flattened)\n",
    "    output = Dense(1, activation='sigmoid')(dense)\n",
    "    \n",
    "    # Create and compile the model\n",
    "    model = Model(inputs=[user, anime], outputs=output)\n",
    "    model.compile(loss='binary_crossentropy', optimizer=Adam(learning_rate=0.001), metrics=[\"mae\", \"mse\"])\n",
    "    \n",
    "    return model\n",
    "# Checking if TPU is initialized and create the model accordingly\n",
    "if USE_TPU:\n",
    "    with tpu_strategy.scope():\n",
    "        model = RecommenderNet(num_users, num_animes)\n",
    "else:\n",
    "    model = RecommenderNet(num_users, num_animes)\n",
    "\n",
    "# Printing my model summary\n",
    "model.summary()"
   ]
  },
  {
   "cell_type": "code",
   "execution_count": 14,
   "id": "a31d4252",
   "metadata": {
    "execution": {
     "iopub.execute_input": "2023-07-28T06:10:48.739898Z",
     "iopub.status.busy": "2023-07-28T06:10:48.739511Z",
     "iopub.status.idle": "2023-07-28T06:10:48.752546Z",
     "shell.execute_reply": "2023-07-28T06:10:48.751465Z"
    },
    "papermill": {
     "duration": 0.041421,
     "end_time": "2023-07-28T06:10:48.754830",
     "exception": false,
     "start_time": "2023-07-28T06:10:48.713409",
     "status": "completed"
    },
    "tags": []
   },
   "outputs": [],
   "source": [
    "## Import necessary callbacks\n",
    "from tensorflow.keras.callbacks import ModelCheckpoint, LearningRateScheduler, EarlyStopping\n",
    "\n",
    "# Define the initial learning rate, minimum learning rate, maximum learning rate, and batch size\n",
    "start_lr = 0.00001\n",
    "min_lr = 0.00001\n",
    "max_lr = 0.00005\n",
    "batch_size = 10000\n",
    "\n",
    "# Adjust the maximum learning rate and batch size if using TPU\n",
    "if USE_TPU:\n",
    "    max_lr = max_lr * tpu_strategy.num_replicas_in_sync\n",
    "    batch_size = batch_size * tpu_strategy.num_replicas_in_sync\n",
    "\n",
    "# Define the number of epochs for ramp-up, sustain, and exponential decay\n",
    "rampup_epochs = 5\n",
    "sustain_epochs = 0\n",
    "exp_decay = .8\n",
    "\n",
    "# Learning rate schedule function\n",
    "def lrfn(epoch):\n",
    "    if epoch < rampup_epochs:\n",
    "        return (max_lr - start_lr) / rampup_epochs * epoch + start_lr\n",
    "    elif epoch < rampup_epochs + sustain_epochs:\n",
    "        return max_lr\n",
    "    else:\n",
    "        return (max_lr - min_lr) * exp_decay**(epoch - rampup_epochs - sustain_epochs) + min_lr\n",
    "\n",
    "# Learning rate scheduler callback\n",
    "lr_callback = LearningRateScheduler(lambda epoch: lrfn(epoch), verbose=0)\n",
    "\n",
    "# File path for saving the model weights\n",
    "checkpoint_filepath = '/kaggle/working/myanimeweights.weights.h5'\n",
    "\n",
    "\n",
    "# Model checkpoint callback to save the best weights\n",
    "model_checkpoints = ModelCheckpoint(filepath=checkpoint_filepath,\n",
    "                                    save_weights_only=True,\n",
    "                                    monitor='val_loss',\n",
    "                                    mode='min',\n",
    "                                    save_best_only=True)\n",
    "\n",
    "# Early stopping callback to prevent overfitting\n",
    "early_stopping = EarlyStopping(patience=3, monitor='val_loss', mode='min', restore_best_weights=True)\n",
    "\n",
    "# Define the list of callbacks\n",
    "my_callbacks = [\n",
    "    model_checkpoints,\n",
    "    lr_callback,\n",
    "    early_stopping\n",
    "]"
   ]
  },
  {
   "cell_type": "code",
   "execution_count": 15,
   "id": "ea24c7e5",
   "metadata": {
    "execution": {
     "iopub.execute_input": "2023-07-28T06:10:48.798496Z",
     "iopub.status.busy": "2023-07-28T06:10:48.798139Z",
     "iopub.status.idle": "2023-07-28T06:12:10.244111Z",
     "shell.execute_reply": "2023-07-28T06:12:10.242827Z"
    },
    "papermill": {
     "duration": 81.471222,
     "end_time": "2023-07-28T06:12:10.247133",
     "exception": false,
     "start_time": "2023-07-28T06:10:48.775911",
     "status": "completed"
    },
    "tags": []
   },
   "outputs": [
    {
     "name": "stdout",
     "output_type": "stream",
     "text": [
      "Epoch 1/20\n",
      "\u001b[1m2432/2432\u001b[0m \u001b[32m━━━━━━━━━━━━━━━━━━━━\u001b[0m\u001b[37m\u001b[0m \u001b[1m530s\u001b[0m 217ms/step - loss: 0.6874 - mae: 0.2583 - mse: 0.0868 - val_loss: 0.6595 - val_mae: 0.2318 - val_mse: 0.0725 - learning_rate: 1.0000e-05\n",
      "Epoch 2/20\n",
      "\u001b[1m2432/2432\u001b[0m \u001b[32m━━━━━━━━━━━━━━━━━━━━\u001b[0m\u001b[37m\u001b[0m \u001b[1m526s\u001b[0m 216ms/step - loss: 0.6446 - mae: 0.2179 - mse: 0.0656 - val_loss: 0.6053 - val_mae: 0.1793 - val_mse: 0.0462 - learning_rate: 1.8000e-05\n",
      "Epoch 3/20\n",
      "\u001b[1m2432/2432\u001b[0m \u001b[32m━━━━━━━━━━━━━━━━━━━━\u001b[0m\u001b[37m\u001b[0m \u001b[1m525s\u001b[0m 216ms/step - loss: 0.5945 - mae: 0.1655 - mse: 0.0416 - val_loss: 0.5775 - val_mae: 0.1477 - val_mse: 0.0338 - learning_rate: 2.6000e-05\n",
      "Epoch 4/20\n",
      "\u001b[1m2432/2432\u001b[0m \u001b[32m━━━━━━━━━━━━━━━━━━━━\u001b[0m\u001b[37m\u001b[0m \u001b[1m514s\u001b[0m 211ms/step - loss: 0.5771 - mae: 0.1468 - mse: 0.0340 - val_loss: 0.5759 - val_mae: 0.1440 - val_mse: 0.0331 - learning_rate: 3.4000e-05\n",
      "Epoch 5/20\n",
      "\u001b[1m2432/2432\u001b[0m \u001b[32m━━━━━━━━━━━━━━━━━━━━\u001b[0m\u001b[37m\u001b[0m \u001b[1m518s\u001b[0m 213ms/step - loss: 0.5707 - mae: 0.1384 - mse: 0.0315 - val_loss: 0.5603 - val_mae: 0.1280 - val_mse: 0.0272 - learning_rate: 4.2000e-05\n",
      "Epoch 6/20\n",
      "\u001b[1m2432/2432\u001b[0m \u001b[32m━━━━━━━━━━━━━━━━━━━━\u001b[0m\u001b[37m\u001b[0m \u001b[1m542s\u001b[0m 222ms/step - loss: 0.5490 - mae: 0.1170 - mse: 0.0233 - val_loss: 0.5499 - val_mae: 0.1172 - val_mse: 0.0233 - learning_rate: 5.0000e-05\n",
      "Epoch 7/20\n",
      "\u001b[1m2432/2432\u001b[0m \u001b[32m━━━━━━━━━━━━━━━━━━━━\u001b[0m\u001b[37m\u001b[0m \u001b[1m514s\u001b[0m 211ms/step - loss: 0.5388 - mae: 0.1064 - mse: 0.0194 - val_loss: 0.5468 - val_mae: 0.1139 - val_mse: 0.0222 - learning_rate: 4.2000e-05\n",
      "Epoch 8/20\n",
      "\u001b[1m2432/2432\u001b[0m \u001b[32m━━━━━━━━━━━━━━━━━━━━\u001b[0m\u001b[37m\u001b[0m \u001b[1m526s\u001b[0m 216ms/step - loss: 0.5343 - mae: 0.1015 - mse: 0.0178 - val_loss: 0.5454 - val_mae: 0.1122 - val_mse: 0.0216 - learning_rate: 3.5600e-05\n",
      "Epoch 9/20\n",
      "\u001b[1m2432/2432\u001b[0m \u001b[32m━━━━━━━━━━━━━━━━━━━━\u001b[0m\u001b[37m\u001b[0m \u001b[1m529s\u001b[0m 217ms/step - loss: 0.5315 - mae: 0.0983 - mse: 0.0168 - val_loss: 0.5446 - val_mae: 0.1112 - val_mse: 0.0214 - learning_rate: 3.0480e-05\n",
      "Epoch 10/20\n",
      "\u001b[1m2432/2432\u001b[0m \u001b[32m━━━━━━━━━━━━━━━━━━━━\u001b[0m\u001b[37m\u001b[0m \u001b[1m476s\u001b[0m 195ms/step - loss: 0.5291 - mae: 0.0957 - mse: 0.0160 - val_loss: 0.5441 - val_mae: 0.1105 - val_mse: 0.0212 - learning_rate: 2.6384e-05\n",
      "Epoch 11/20\n",
      "\u001b[1m2432/2432\u001b[0m \u001b[32m━━━━━━━━━━━━━━━━━━━━\u001b[0m\u001b[37m\u001b[0m \u001b[1m475s\u001b[0m 195ms/step - loss: 0.5273 - mae: 0.0935 - mse: 0.0153 - val_loss: 0.5438 - val_mae: 0.1101 - val_mse: 0.0211 - learning_rate: 2.3107e-05\n",
      "Epoch 12/20\n",
      "\u001b[1m2432/2432\u001b[0m \u001b[32m━━━━━━━━━━━━━━━━━━━━\u001b[0m\u001b[37m\u001b[0m \u001b[1m475s\u001b[0m 195ms/step - loss: 0.5257 - mae: 0.0917 - mse: 0.0148 - val_loss: 0.5437 - val_mae: 0.1100 - val_mse: 0.0210 - learning_rate: 2.0486e-05\n",
      "Epoch 13/20\n",
      "\u001b[1m2432/2432\u001b[0m \u001b[32m━━━━━━━━━━━━━━━━━━━━\u001b[0m\u001b[37m\u001b[0m \u001b[1m474s\u001b[0m 194ms/step - loss: 0.5244 - mae: 0.0902 - mse: 0.0144 - val_loss: 0.5436 - val_mae: 0.1099 - val_mse: 0.0210 - learning_rate: 1.8389e-05\n",
      "Epoch 14/20\n",
      "\u001b[1m2432/2432\u001b[0m \u001b[32m━━━━━━━━━━━━━━━━━━━━\u001b[0m\u001b[37m\u001b[0m \u001b[1m473s\u001b[0m 194ms/step - loss: 0.5233 - mae: 0.0889 - mse: 0.0140 - val_loss: 0.5436 - val_mae: 0.1098 - val_mse: 0.0210 - learning_rate: 1.6711e-05\n",
      "Epoch 15/20\n",
      "\u001b[1m2432/2432\u001b[0m \u001b[32m━━━━━━━━━━━━━━━━━━━━\u001b[0m\u001b[37m\u001b[0m \u001b[1m472s\u001b[0m 194ms/step - loss: 0.5223 - mae: 0.0878 - mse: 0.0137 - val_loss: 0.5437 - val_mae: 0.1097 - val_mse: 0.0210 - learning_rate: 1.5369e-05\n",
      "Epoch 16/20\n",
      "\u001b[1m2432/2432\u001b[0m \u001b[32m━━━━━━━━━━━━━━━━━━━━\u001b[0m\u001b[37m\u001b[0m \u001b[1m473s\u001b[0m 194ms/step - loss: 0.5213 - mae: 0.0867 - mse: 0.0134 - val_loss: 0.5437 - val_mae: 0.1097 - val_mse: 0.0210 - learning_rate: 1.4295e-05\n"
     ]
    }
   ],
   "source": [
    "# Model training\n",
    "history = model.fit(\n",
    "    x=X_train_array,\n",
    "    y=y_train,\n",
    "    batch_size=batch_size,\n",
    "    epochs=20,\n",
    "    verbose=1,\n",
    "    validation_data=(X_test_array, y_test),\n",
    "    callbacks=my_callbacks\n",
    ")\n",
    "\n",
    "model.load_weights(checkpoint_filepath)"
   ]
  },
  {
   "cell_type": "code",
   "execution_count": 16,
   "id": "c1ba06e3",
   "metadata": {
    "execution": {
     "iopub.execute_input": "2023-07-28T06:12:10.452636Z",
     "iopub.status.busy": "2023-07-28T06:12:10.452266Z",
     "iopub.status.idle": "2023-07-28T06:12:10.866310Z",
     "shell.execute_reply": "2023-07-28T06:12:10.865110Z"
    },
    "papermill": {
     "duration": 0.519031,
     "end_time": "2023-07-28T06:12:10.868751",
     "exception": false,
     "start_time": "2023-07-28T06:12:10.349720",
     "status": "completed"
    },
    "tags": []
   },
   "outputs": [
    {
     "data": {
      "image/png": "[encoded data removed]",
      "text/plain": [
       "<Figure size 640x480 with 1 Axes>"
      ]
     },
     "metadata": {},
     "output_type": "display_data"
    }
   ],
   "source": [
    "# Training results visualization\n",
    "\n",
    "plt.plot(history.history[\"loss\"][0:-2])\n",
    "plt.plot(history.history[\"val_loss\"][0:-2])\n",
    "plt.title(\"Training Loss\")\n",
    "plt.ylabel(\"Loss\")\n",
    "plt.xlabel(\"Epoch\")\n",
    "plt.legend([\"Train\", \"Validation\"], loc=\"upper left\")\n",
    "plt.show()"
   ]
  },
  {
   "cell_type": "markdown",
   "id": "d7c99c22",
   "metadata": {
    "papermill": {
     "duration": 0.101043,
     "end_time": "2023-07-28T06:12:11.070680",
     "exception": false,
     "start_time": "2023-07-28T06:12:10.969637",
     "status": "completed"
    },
    "tags": []
   },
   "source": [
    "# Recommendation:"
   ]
  },
  {
   "cell_type": "code",
   "execution_count": 17,
   "id": "0808b142",
   "metadata": {
    "execution": {
     "iopub.execute_input": "2023-07-28T06:12:11.275041Z",
     "iopub.status.busy": "2023-07-28T06:12:11.274657Z",
     "iopub.status.idle": "2023-07-28T06:12:11.509242Z",
     "shell.execute_reply": "2023-07-28T06:12:11.507819Z"
    },
    "papermill": {
     "duration": 0.340685,
     "end_time": "2023-07-28T06:12:11.512256",
     "exception": false,
     "start_time": "2023-07-28T06:12:11.171571",
     "status": "completed"
    },
    "tags": []
   },
   "outputs": [],
   "source": [
    "def extract_weights(name, model):\n",
    "    # Get the layer by name from the model\n",
    "    weight_layer = model.get_layer(name)\n",
    "    \n",
    "    # Get the weights from the layer\n",
    "    weights = weight_layer.get_weights()[0]\n",
    "    \n",
    "    # Normalize the weights\n",
    "    weights = weights / np.linalg.norm(weights, axis=1).reshape((-1, 1))\n",
    "    \n",
    "    return weights\n",
    "\n",
    "# Extract weights for anime embeddings\n",
    "anime_weights = extract_weights('anime_embedding', model)\n",
    "# Extract weights for user embeddings\n",
    "user_weights = extract_weights('user_embedding', model)"
   ]
  },
  {
   "cell_type": "markdown",
   "id": "eb33d4ec",
   "metadata": {
    "papermill": {
     "duration": 0.09984,
     "end_time": "2023-07-28T06:12:11.714098",
     "exception": false,
     "start_time": "2023-07-28T06:12:11.614258",
     "status": "completed"
    },
    "tags": []
   },
   "source": [
    "#### Reading the whole dataset"
   ]
  },
  {
   "cell_type": "code",
   "execution_count": 18,
   "id": "7d089dcf",
   "metadata": {
    "execution": {
     "iopub.execute_input": "2023-07-28T06:12:11.917737Z",
     "iopub.status.busy": "2023-07-28T06:12:11.917301Z",
     "iopub.status.idle": "2023-07-28T06:12:12.419987Z",
     "shell.execute_reply": "2023-07-28T06:12:12.418558Z"
    },
    "papermill": {
     "duration": 0.607798,
     "end_time": "2023-07-28T06:12:12.423043",
     "exception": false,
     "start_time": "2023-07-28T06:12:11.815245",
     "status": "completed"
    },
    "tags": []
   },
   "outputs": [],
   "source": [
    "df_anime=pd.read_csv('../model/anime-dataset-2023.csv')"
   ]
  },
  {
   "cell_type": "markdown",
   "id": "b55f4865",
   "metadata": {
    "papermill": {
     "duration": 0.101806,
     "end_time": "2023-07-28T06:12:12.627620",
     "exception": false,
     "start_time": "2023-07-28T06:12:12.525814",
     "status": "completed"
    },
    "tags": []
   },
   "source": [
    "#### Now I want my model to recommend only those animes that have been rated by at least a certain number of users, which I will set as the threshold. This threshold helps ensure that the recommended anime titles have received a sufficient number of ratings, indicating a certain level of popularity or user engagement."
   ]
  },
  {
   "cell_type": "code",
   "execution_count": 19,
   "id": "966b26aa",
   "metadata": {
    "execution": {
     "iopub.execute_input": "2023-07-28T06:12:12.836898Z",
     "iopub.status.busy": "2023-07-28T06:12:12.835871Z",
     "iopub.status.idle": "2023-07-28T06:12:12.877839Z",
     "shell.execute_reply": "2023-07-28T06:12:12.876663Z"
    },
    "papermill": {
     "duration": 0.150399,
     "end_time": "2023-07-28T06:12:12.880153",
     "exception": false,
     "start_time": "2023-07-28T06:12:12.729754",
     "status": "completed"
    },
    "tags": []
   },
   "outputs": [
    {
     "name": "stdout",
     "output_type": "stream",
     "text": [
      "(22879, 24)\n"
     ]
    },
    {
     "data": {
      "text/html": [
       "<div>\n",
       "<style scoped>\n",
       "    .dataframe tbody tr th:only-of-type {\n",
       "        vertical-align: middle;\n",
       "    }\n",
       "\n",
       "    .dataframe tbody tr th {\n",
       "        vertical-align: top;\n",
       "    }\n",
       "\n",
       "    .dataframe thead th {\n",
       "        text-align: right;\n",
       "    }\n",
       "</style>\n",
       "<table border=\"1\" class=\"dataframe\">\n",
       "  <thead>\n",
       "    <tr style=\"text-align: right;\">\n",
       "      <th></th>\n",
       "      <th>anime_id</th>\n",
       "      <th>Name</th>\n",
       "      <th>English name</th>\n",
       "      <th>Other name</th>\n",
       "      <th>Score</th>\n",
       "      <th>Genres</th>\n",
       "      <th>Synopsis</th>\n",
       "      <th>Type</th>\n",
       "      <th>Episodes</th>\n",
       "      <th>Aired</th>\n",
       "      <th>...</th>\n",
       "      <th>Studios</th>\n",
       "      <th>Source</th>\n",
       "      <th>Duration</th>\n",
       "      <th>Rating</th>\n",
       "      <th>Rank</th>\n",
       "      <th>Popularity</th>\n",
       "      <th>Favorites</th>\n",
       "      <th>Scored By</th>\n",
       "      <th>Members</th>\n",
       "      <th>Image URL</th>\n",
       "    </tr>\n",
       "  </thead>\n",
       "  <tbody>\n",
       "    <tr>\n",
       "      <th>0</th>\n",
       "      <td>1</td>\n",
       "      <td>Cowboy Bebop</td>\n",
       "      <td>Cowboy Bebop</td>\n",
       "      <td>カウボーイビバップ</td>\n",
       "      <td>8.75</td>\n",
       "      <td>Action, Award Winning, Sci-Fi</td>\n",
       "      <td>Crime is timeless. By the year 2071, humanity ...</td>\n",
       "      <td>TV</td>\n",
       "      <td>26.0</td>\n",
       "      <td>Apr 3, 1998 to Apr 24, 1999</td>\n",
       "      <td>...</td>\n",
       "      <td>Sunrise</td>\n",
       "      <td>Original</td>\n",
       "      <td>24 min per ep</td>\n",
       "      <td>R - 17+ (violence &amp; profanity)</td>\n",
       "      <td>41.0</td>\n",
       "      <td>43</td>\n",
       "      <td>78525</td>\n",
       "      <td>914193.0</td>\n",
       "      <td>1771505</td>\n",
       "      <td>https://cdn.myanimelist.net/images/anime/4/196...</td>\n",
       "    </tr>\n",
       "    <tr>\n",
       "      <th>1</th>\n",
       "      <td>5</td>\n",
       "      <td>Cowboy Bebop: Tengoku no Tobira</td>\n",
       "      <td>Cowboy Bebop: The Movie</td>\n",
       "      <td>カウボーイビバップ 天国の扉</td>\n",
       "      <td>8.38</td>\n",
       "      <td>Action, Sci-Fi</td>\n",
       "      <td>Another day, another bounty—such is the life o...</td>\n",
       "      <td>Movie</td>\n",
       "      <td>1.0</td>\n",
       "      <td>Sep 1, 2001</td>\n",
       "      <td>...</td>\n",
       "      <td>Bones</td>\n",
       "      <td>Original</td>\n",
       "      <td>1 hr 55 min</td>\n",
       "      <td>R - 17+ (violence &amp; profanity)</td>\n",
       "      <td>189.0</td>\n",
       "      <td>602</td>\n",
       "      <td>1448</td>\n",
       "      <td>206248.0</td>\n",
       "      <td>360978</td>\n",
       "      <td>https://cdn.myanimelist.net/images/anime/1439/...</td>\n",
       "    </tr>\n",
       "    <tr>\n",
       "      <th>2</th>\n",
       "      <td>6</td>\n",
       "      <td>Trigun</td>\n",
       "      <td>Trigun</td>\n",
       "      <td>トライガン</td>\n",
       "      <td>8.22</td>\n",
       "      <td>Action, Adventure, Sci-Fi</td>\n",
       "      <td>Vash the Stampede is the man with a $$60,000,0...</td>\n",
       "      <td>TV</td>\n",
       "      <td>26.0</td>\n",
       "      <td>Apr 1, 1998 to Sep 30, 1998</td>\n",
       "      <td>...</td>\n",
       "      <td>Madhouse</td>\n",
       "      <td>Manga</td>\n",
       "      <td>24 min per ep</td>\n",
       "      <td>PG-13 - Teens 13 or older</td>\n",
       "      <td>328.0</td>\n",
       "      <td>246</td>\n",
       "      <td>15035</td>\n",
       "      <td>356739.0</td>\n",
       "      <td>727252</td>\n",
       "      <td>https://cdn.myanimelist.net/images/anime/7/203...</td>\n",
       "    </tr>\n",
       "  </tbody>\n",
       "</table>\n",
       "<p>3 rows × 24 columns</p>\n",
       "</div>"
      ],
      "text/plain": [
       "   anime_id                             Name             English name  \\\n",
       "0         1                     Cowboy Bebop             Cowboy Bebop   \n",
       "1         5  Cowboy Bebop: Tengoku no Tobira  Cowboy Bebop: The Movie   \n",
       "2         6                           Trigun                   Trigun   \n",
       "\n",
       "       Other name Score                         Genres  \\\n",
       "0       カウボーイビバップ  8.75  Action, Award Winning, Sci-Fi   \n",
       "1  カウボーイビバップ 天国の扉  8.38                 Action, Sci-Fi   \n",
       "2           トライガン  8.22      Action, Adventure, Sci-Fi   \n",
       "\n",
       "                                            Synopsis   Type Episodes  \\\n",
       "0  Crime is timeless. By the year 2071, humanity ...     TV     26.0   \n",
       "1  Another day, another bounty—such is the life o...  Movie      1.0   \n",
       "2  Vash the Stampede is the man with a $$60,000,0...     TV     26.0   \n",
       "\n",
       "                         Aired  ...   Studios    Source       Duration  \\\n",
       "0  Apr 3, 1998 to Apr 24, 1999  ...   Sunrise  Original  24 min per ep   \n",
       "1                  Sep 1, 2001  ...     Bones  Original    1 hr 55 min   \n",
       "2  Apr 1, 1998 to Sep 30, 1998  ...  Madhouse     Manga  24 min per ep   \n",
       "\n",
       "                           Rating   Rank Popularity Favorites Scored By  \\\n",
       "0  R - 17+ (violence & profanity)   41.0         43     78525  914193.0   \n",
       "1  R - 17+ (violence & profanity)  189.0        602      1448  206248.0   \n",
       "2       PG-13 - Teens 13 or older  328.0        246     15035  356739.0   \n",
       "\n",
       "   Members                                          Image URL  \n",
       "0  1771505  https://cdn.myanimelist.net/images/anime/4/196...  \n",
       "1   360978  https://cdn.myanimelist.net/images/anime/1439/...  \n",
       "2   727252  https://cdn.myanimelist.net/images/anime/7/203...  \n",
       "\n",
       "[3 rows x 24 columns]"
      ]
     },
     "execution_count": 19,
     "metadata": {},
     "output_type": "execute_result"
    }
   ],
   "source": [
    "popularity_threshold = 50\n",
    "df_anime= df_anime.query('Members >= @popularity_threshold')\n",
    "print(df_anime.shape)\n",
    "df_anime.head(3)      # only give rating of those movies for which atleast 200 user have rated"
   ]
  },
  {
   "cell_type": "markdown",
   "id": "41021540",
   "metadata": {
    "papermill": {
     "duration": 0.114019,
     "end_time": "2023-07-28T06:12:13.102964",
     "exception": false,
     "start_time": "2023-07-28T06:12:12.988945",
     "status": "completed"
    },
    "tags": []
   },
   "source": [
    "# 1: Item Based Recommendation"
   ]
  },
  {
   "cell_type": "code",
   "execution_count": 20,
   "id": "c39459c6",
   "metadata": {
    "execution": {
     "iopub.execute_input": "2023-07-28T06:12:13.310301Z",
     "iopub.status.busy": "2023-07-28T06:12:13.309860Z",
     "iopub.status.idle": "2023-07-28T06:12:13.324035Z",
     "shell.execute_reply": "2023-07-28T06:12:13.322855Z"
    },
    "papermill": {
     "duration": 0.119554,
     "end_time": "2023-07-28T06:12:13.326244",
     "exception": false,
     "start_time": "2023-07-28T06:12:13.206690",
     "status": "completed"
    },
    "tags": []
   },
   "outputs": [],
   "source": [
    "def find_similar_animes(name, n=10, return_dist=False, neg=False):\n",
    "    try:\n",
    "        anime_row = df_anime[df_anime['Name'] == name].iloc[0]\n",
    "        index = anime_row['anime_id']\n",
    "        encoded_index = anime_encoder.transform([index])[0]\n",
    "        weights = anime_weights\n",
    "        dists = np.dot(weights, weights[encoded_index])\n",
    "        sorted_dists = np.argsort(dists)\n",
    "        n = n + 1            \n",
    "        if neg:\n",
    "            closest = sorted_dists[:n]\n",
    "        else:\n",
    "            closest = sorted_dists[-n:]\n",
    "        print('Animes closest to {}'.format(name))\n",
    "        if return_dist:\n",
    "            return dists, closest\n",
    "        \n",
    "        SimilarityArr = []\n",
    "        \n",
    "        for close in closest:\n",
    "            decoded_id = anime_encoder.inverse_transform([close])[0]\n",
    "            anime_frame = df_anime[df_anime['anime_id'] == decoded_id]\n",
    "            \n",
    "            anime_name = anime_frame['Name'].values[0]\n",
    "            english_name = anime_frame['English name'].values[0]\n",
    "            name = english_name if english_name != \"UNKNOWN\" else anime_name\n",
    "            genre = anime_frame['Genres'].values[0]\n",
    "            Synopsis = anime_frame['Synopsis'].values[0]\n",
    "            similarity = dists[close]\n",
    "            similarity = \"{:.2f}%\".format(similarity * 100)\n",
    "            SimilarityArr.append({\"Name\": name, \"Similarity\": similarity, \"Genres\": genre, \"Synopsis\":Synopsis})\n",
    "        Frame = pd.DataFrame(SimilarityArr).sort_values(by=\"Similarity\", ascending=False)\n",
    "        return Frame[Frame.Name != name]\n",
    "    except:\n",
    "        print('{} not found in Anime list'.format(name))\n",
    "\n",
    "pd.set_option('display.max_colwidth', None)"
   ]
  },
  {
   "cell_type": "code",
   "execution_count": 21,
   "id": "72bd2363",
   "metadata": {
    "execution": {
     "iopub.execute_input": "2023-07-28T06:12:13.532458Z",
     "iopub.status.busy": "2023-07-28T06:12:13.532162Z",
     "iopub.status.idle": "2023-07-28T06:12:13.583520Z",
     "shell.execute_reply": "2023-07-28T06:12:13.581285Z"
    },
    "papermill": {
     "duration": 0.159493,
     "end_time": "2023-07-28T06:12:13.588234",
     "exception": false,
     "start_time": "2023-07-28T06:12:13.428741",
     "status": "completed"
    },
    "tags": []
   },
   "outputs": [
    {
     "name": "stdout",
     "output_type": "stream",
     "text": [
      "Animes closest to Tensei shitara Slime Datta Ken\n"
     ]
    },
    {
     "data": {
      "text/html": [
       "<div>\n",
       "<style scoped>\n",
       "    .dataframe tbody tr th:only-of-type {\n",
       "        vertical-align: middle;\n",
       "    }\n",
       "\n",
       "    .dataframe tbody tr th {\n",
       "        vertical-align: top;\n",
       "    }\n",
       "\n",
       "    .dataframe thead th {\n",
       "        text-align: right;\n",
       "    }\n",
       "</style>\n",
       "<table border=\"1\" class=\"dataframe\">\n",
       "  <thead>\n",
       "    <tr style=\"text-align: right;\">\n",
       "      <th></th>\n",
       "      <th>Name</th>\n",
       "      <th>Similarity</th>\n",
       "      <th>Genres</th>\n",
       "      <th>Synopsis</th>\n",
       "    </tr>\n",
       "  </thead>\n",
       "  <tbody>\n",
       "    <tr>\n",
       "      <th>4</th>\n",
       "      <td>The Rising of the Shield Hero</td>\n",
       "      <td>76.59%</td>\n",
       "      <td>Action, Adventure, Drama, Fantasy</td>\n",
       "      <td>The Four Cardinal Heroes are a group of ordinary men from modern-day Japan summoned to the kingdom of Melromarc to become its saviors. Melromarc is a country plagued by the Waves of Catastrophe that have repeatedly ravaged the land and brought disaster to its citizens for centuries. The four heroes are respectively bestowed a sword, spear, bow, and shield to vanquish these Waves. Naofumi Iwatani, an otaku, becomes cursed with the fate of being the \"Shield Hero.\" Armed with only a measly shield, Naofumi is belittled and ridiculed by his fellow heroes and the kingdom's people due to his weak offensive capabilities and lackluster personality.\\n\\nWhen the heroes are provided with resources and comrades to train with, Naofumi sets out with the only person willing to train alongside him, Malty Melromarc. He is soon betrayed by her, however, and becomes falsely accused of taking advantage of her. Naofumi then becomes heavily discriminated against and hated by the people of Melromarc for something he didn't do. With a raging storm of hurt and mistrust in his heart, Naofumi begins his journey of strengthening himself and his reputation. Further along however, the difficulty of being on his own sets in, so Naofumi buys a demi-human slave on the verge of death named Raphtalia to accompany him on his travels.\\n\\nAs the Waves approach the kingdom, Naofumi and Raphtalia must fight for the survival of the kingdom and protect the people of Melromarc from their ill-fated future.</td>\n",
       "    </tr>\n",
       "    <tr>\n",
       "      <th>3</th>\n",
       "      <td>That Time I Got Reincarnated as a Slime Season 2</td>\n",
       "      <td>76.07%</td>\n",
       "      <td>Action, Adventure, Comedy, Fantasy</td>\n",
       "      <td>Taking a break from his time as a teacher, the powerful slime Rimuru Tempest returns to his kingdom, eponymously named Tempest, just in time to begin negotiations with a nearby nation—the Kingdom of Eurazania. While the negotiations are anything but peaceful, they do end successfully, allowing Rimuru to return and finish teaching. When trying to again return to Tempest, this time permanently, Rimuru is stopped by a mysterious figure who is somehow able to constrain the many magical abilities he has at his disposal. \\n\\nIn Tempest, the situation is even worse. A group of unknown humans has invaded the land and are assaulting its citizens, both influential and innocent. They are not just trying to bring harm either—they have the intent to kill. Can Rimuru overcome his powerful and dangerous foe and return to Tempest before it is too late?</td>\n",
       "    </tr>\n",
       "    <tr>\n",
       "      <th>2</th>\n",
       "      <td>Dr. Stone</td>\n",
       "      <td>74.11%</td>\n",
       "      <td>Adventure, Comedy, Sci-Fi</td>\n",
       "      <td>After five years of harboring unspoken feelings, high-schooler Taiju Ooki is finally ready to confess his love to Yuzuriha Ogawa. Just when Taiju begins his confession however, a blinding green light strikes the Earth and petrifies mankind around the world—turning every single human into stone.\\n\\nSeveral millennia later, Taiju awakens to find the modern world completely nonexistent, as nature has flourished in the years humanity stood still. Among a stone world of statues, Taiju encounters one other living human: his science-loving friend Senkuu, who has been active for a few months. Taiju learns that Senkuu has developed a grand scheme—to launch the complete revival of civilization with science. Taiju's brawn and Senkuu's brains combine to forge a formidable partnership, and they soon uncover a method to revive those petrified.\\n\\nHowever, Senkuu's master plan is threatened when his ideologies are challenged by those who awaken. All the while, the reason for mankind's petrification remains unknown.</td>\n",
       "    </tr>\n",
       "    <tr>\n",
       "      <th>1</th>\n",
       "      <td>That Time I Got Reincarnated as a Slime Season 2 Part 2</td>\n",
       "      <td>73.67%</td>\n",
       "      <td>Action, Adventure, Comedy, Fantasy</td>\n",
       "      <td>The nation of Tempest is in a festive mood after successfully overcoming the surprise attack from the Falmuth Army and the Western Holy Church. Beyond the festivities lies a meeting between Tempest and its allies to decide the future of the Nation of Monsters. The aftermath of the Falmuth invasion, Milim Nava's suspicious behavior, and the disappearance of Demon Lord Carrion—the problems seem to keep on piling up.\\n\\nRimuru Tempest, now awakened as a \"True Demon Lord,\" decides to go on the offensive against Clayman. With the fully revived \"Storm Dragon\" Veldora, \"Ultimate Skill\" Raphael, and other powerful comrades, the ruler of the Tempest is confident in taking down his enemies one by one until he can face the man pulling the strings.</td>\n",
       "    </tr>\n",
       "    <tr>\n",
       "      <th>0</th>\n",
       "      <td>Demon Slayer: Kimetsu no Yaiba</td>\n",
       "      <td>72.67%</td>\n",
       "      <td>Action, Award Winning, Fantasy</td>\n",
       "      <td>Ever since the death of his father, the burden of supporting the family has fallen upon Tanjirou Kamado's shoulders. Though living impoverished on a remote mountain, the Kamado family are able to enjoy a relatively peaceful and happy life. One day, Tanjirou decides to go down to the local village to make a little money selling charcoal. On his way back, night falls, forcing Tanjirou to take shelter in the house of a strange man, who warns him of the existence of flesh-eating demons that lurk in the woods at night.\\n\\nWhen he finally arrives back home the next day, he is met with a horrifying sight—his whole family has been slaughtered. Worse still, the sole survivor is his sister Nezuko, who has been turned into a bloodthirsty demon. Consumed by rage and hatred, Tanjirou swears to avenge his family and stay by his only remaining sibling. Alongside the mysterious group calling themselves the Demon Slayer Corps, Tanjirou will do whatever it takes to slay the demons and protect the remnants of his beloved sister's humanity.</td>\n",
       "    </tr>\n",
       "  </tbody>\n",
       "</table>\n",
       "</div>"
      ],
      "text/plain": [
       "                                                      Name Similarity  \\\n",
       "4                            The Rising of the Shield Hero     76.59%   \n",
       "3         That Time I Got Reincarnated as a Slime Season 2     76.07%   \n",
       "2                                                Dr. Stone     74.11%   \n",
       "1  That Time I Got Reincarnated as a Slime Season 2 Part 2     73.67%   \n",
       "0                           Demon Slayer: Kimetsu no Yaiba     72.67%   \n",
       "\n",
       "                               Genres  \\\n",
       "4   Action, Adventure, Drama, Fantasy   \n",
       "3  Action, Adventure, Comedy, Fantasy   \n",
       "2           Adventure, Comedy, Sci-Fi   \n",
       "1  Action, Adventure, Comedy, Fantasy   \n",
       "0      Action, Award Winning, Fantasy   \n",
       "\n",
       "                                                                                                                                                                                                                                                                                                                                                                                                                                                                                                                                                                                                                                                                                                                                                                                                                                                                                                                                                                                                                                                                                                                                                                                                                                                                                                                                                                                                                                                                                                                                         Synopsis  \n",
       "4  The Four Cardinal Heroes are a group of ordinary men from modern-day Japan summoned to the kingdom of Melromarc to become its saviors. Melromarc is a country plagued by the Waves of Catastrophe that have repeatedly ravaged the land and brought disaster to its citizens for centuries. The four heroes are respectively bestowed a sword, spear, bow, and shield to vanquish these Waves. Naofumi Iwatani, an otaku, becomes cursed with the fate of being the \"Shield Hero.\" Armed with only a measly shield, Naofumi is belittled and ridiculed by his fellow heroes and the kingdom's people due to his weak offensive capabilities and lackluster personality.\\n\\nWhen the heroes are provided with resources and comrades to train with, Naofumi sets out with the only person willing to train alongside him, Malty Melromarc. He is soon betrayed by her, however, and becomes falsely accused of taking advantage of her. Naofumi then becomes heavily discriminated against and hated by the people of Melromarc for something he didn't do. With a raging storm of hurt and mistrust in his heart, Naofumi begins his journey of strengthening himself and his reputation. Further along however, the difficulty of being on his own sets in, so Naofumi buys a demi-human slave on the verge of death named Raphtalia to accompany him on his travels.\\n\\nAs the Waves approach the kingdom, Naofumi and Raphtalia must fight for the survival of the kingdom and protect the people of Melromarc from their ill-fated future.  \n",
       "3                                                                                                                                                                                                                                                                                                                                                                                                                                                                                                                                                                                                                                                                Taking a break from his time as a teacher, the powerful slime Rimuru Tempest returns to his kingdom, eponymously named Tempest, just in time to begin negotiations with a nearby nation—the Kingdom of Eurazania. While the negotiations are anything but peaceful, they do end successfully, allowing Rimuru to return and finish teaching. When trying to again return to Tempest, this time permanently, Rimuru is stopped by a mysterious figure who is somehow able to constrain the many magical abilities he has at his disposal. \\n\\nIn Tempest, the situation is even worse. A group of unknown humans has invaded the land and are assaulting its citizens, both influential and innocent. They are not just trying to bring harm either—they have the intent to kill. Can Rimuru overcome his powerful and dangerous foe and return to Tempest before it is too late?  \n",
       "2                                                                                                                                                                                                                                                                                                                                                                                                                                                                                         After five years of harboring unspoken feelings, high-schooler Taiju Ooki is finally ready to confess his love to Yuzuriha Ogawa. Just when Taiju begins his confession however, a blinding green light strikes the Earth and petrifies mankind around the world—turning every single human into stone.\\n\\nSeveral millennia later, Taiju awakens to find the modern world completely nonexistent, as nature has flourished in the years humanity stood still. Among a stone world of statues, Taiju encounters one other living human: his science-loving friend Senkuu, who has been active for a few months. Taiju learns that Senkuu has developed a grand scheme—to launch the complete revival of civilization with science. Taiju's brawn and Senkuu's brains combine to forge a formidable partnership, and they soon uncover a method to revive those petrified.\\n\\nHowever, Senkuu's master plan is threatened when his ideologies are challenged by those who awaken. All the while, the reason for mankind's petrification remains unknown.  \n",
       "1                                                                                                                                                                                                                                                                                                                                                                                                                                                                                                                                                                                                                                                                                                                                                                      The nation of Tempest is in a festive mood after successfully overcoming the surprise attack from the Falmuth Army and the Western Holy Church. Beyond the festivities lies a meeting between Tempest and its allies to decide the future of the Nation of Monsters. The aftermath of the Falmuth invasion, Milim Nava's suspicious behavior, and the disappearance of Demon Lord Carrion—the problems seem to keep on piling up.\\n\\nRimuru Tempest, now awakened as a \"True Demon Lord,\" decides to go on the offensive against Clayman. With the fully revived \"Storm Dragon\" Veldora, \"Ultimate Skill\" Raphael, and other powerful comrades, the ruler of the Tempest is confident in taking down his enemies one by one until he can face the man pulling the strings.  \n",
       "0                                                                                                                                                                                                                                                                                                                                                                                                                                                                    Ever since the death of his father, the burden of supporting the family has fallen upon Tanjirou Kamado's shoulders. Though living impoverished on a remote mountain, the Kamado family are able to enjoy a relatively peaceful and happy life. One day, Tanjirou decides to go down to the local village to make a little money selling charcoal. On his way back, night falls, forcing Tanjirou to take shelter in the house of a strange man, who warns him of the existence of flesh-eating demons that lurk in the woods at night.\\n\\nWhen he finally arrives back home the next day, he is met with a horrifying sight—his whole family has been slaughtered. Worse still, the sole survivor is his sister Nezuko, who has been turned into a bloodthirsty demon. Consumed by rage and hatred, Tanjirou swears to avenge his family and stay by his only remaining sibling. Alongside the mysterious group calling themselves the Demon Slayer Corps, Tanjirou will do whatever it takes to slay the demons and protect the remnants of his beloved sister's humanity.  "
      ]
     },
     "execution_count": 21,
     "metadata": {},
     "output_type": "execute_result"
    }
   ],
   "source": [
    "find_similar_animes('Tensei shitara Slime Datta Ken', n=5, neg=False)  # That Time I Got Reincarnated as a Slime"
   ]
  },
  {
   "cell_type": "code",
   "execution_count": 22,
   "id": "4afbb115",
   "metadata": {
    "execution": {
     "iopub.execute_input": "2023-07-28T06:12:13.851569Z",
     "iopub.status.busy": "2023-07-28T06:12:13.851272Z",
     "iopub.status.idle": "2023-07-28T06:12:13.899782Z",
     "shell.execute_reply": "2023-07-28T06:12:13.897359Z"
    },
    "papermill": {
     "duration": 0.157302,
     "end_time": "2023-07-28T06:12:13.904486",
     "exception": false,
     "start_time": "2023-07-28T06:12:13.747184",
     "status": "completed"
    },
    "tags": []
   },
   "outputs": [
    {
     "name": "stdout",
     "output_type": "stream",
     "text": [
      "Animes closest to Shigatsu wa Kimi no Uso\n"
     ]
    },
    {
     "data": {
      "text/html": [
       "<div>\n",
       "<style scoped>\n",
       "    .dataframe tbody tr th:only-of-type {\n",
       "        vertical-align: middle;\n",
       "    }\n",
       "\n",
       "    .dataframe tbody tr th {\n",
       "        vertical-align: top;\n",
       "    }\n",
       "\n",
       "    .dataframe thead th {\n",
       "        text-align: right;\n",
       "    }\n",
       "</style>\n",
       "<table border=\"1\" class=\"dataframe\">\n",
       "  <thead>\n",
       "    <tr style=\"text-align: right;\">\n",
       "      <th></th>\n",
       "      <th>Name</th>\n",
       "      <th>Similarity</th>\n",
       "      <th>Genres</th>\n",
       "      <th>Synopsis</th>\n",
       "    </tr>\n",
       "  </thead>\n",
       "  <tbody>\n",
       "    <tr>\n",
       "      <th>4</th>\n",
       "      <td>ERASED</td>\n",
       "      <td>87.50%</td>\n",
       "      <td>Mystery, Supernatural, Suspense</td>\n",
       "      <td>When tragedy is about to strike, Satoru Fujinuma finds himself sent back several minutes before the accident occurs. The detached, 29-year-old manga artist has taken advantage of this powerful yet mysterious phenomenon, which he calls \"Revival,\" to save many lives.\\n \\nHowever, when he is wrongfully accused of murdering someone close to him, Satoru is sent back to the past once again, but this time to 1988, 18 years in the past. Soon, he realizes that the murder may be connected to the abduction and killing of one of his classmates, the solitary and mysterious Kayo Hinazuki, that took place when he was a child. This is his chance to make things right.\\n \\nBoku dake ga Inai Machi follows Satoru in his mission to uncover what truly transpired 18 years ago and prevent the death of his classmate while protecting those he cares about in the present.</td>\n",
       "    </tr>\n",
       "    <tr>\n",
       "      <th>3</th>\n",
       "      <td>Your Name.</td>\n",
       "      <td>87.15%</td>\n",
       "      <td>Award Winning, Drama, Supernatural</td>\n",
       "      <td>Mitsuha Miyamizu, a high school girl, yearns to live the life of a boy in the bustling city of Tokyo—a dream that stands in stark contrast to her present life in the countryside. Meanwhile in the city, Taki Tachibana lives a busy life as a high school student while juggling his part-time job and hopes for a future in architecture.\\n\\nOne day, Mitsuha awakens in a room that is not her own and suddenly finds herself living the dream life in Tokyo—but in Taki's body! Elsewhere, Taki finds himself living Mitsuha's life in the humble countryside. In pursuit of an answer to this strange phenomenon, they begin to search for one another.\\n\\nKimi no Na wa. revolves around Mitsuha and Taki's actions, which begin to have a dramatic impact on each other's lives, weaving them into a fabric held together by fate and circumstance.</td>\n",
       "    </tr>\n",
       "    <tr>\n",
       "      <th>2</th>\n",
       "      <td>A Silent Voice</td>\n",
       "      <td>85.76%</td>\n",
       "      <td>Award Winning, Drama</td>\n",
       "      <td>As a wild youth, elementary school student Shouya Ishida sought to beat boredom in the cruelest ways. When the deaf Shouko Nishimiya transfers into his class, Shouya and the rest of his class thoughtlessly bully her for fun. However, when her mother notifies the school, he is singled out and blamed for everything done to her. With Shouko transferring out of the school, Shouya is left at the mercy of his classmates. He is heartlessly ostracized all throughout elementary and middle school, while teachers turn a blind eye.\\n\\nNow in his third year of high school, Shouya is still plagued by his wrongdoings as a young boy. Sincerely regretting his past actions, he sets out on a journey of redemption: to meet Shouko once more and make amends.\\n\\nKoe no Katachi tells the heartwarming tale of Shouya's reunion with Shouko and his honest attempts to redeem himself, all while being continually haunted by the shadows of his past.</td>\n",
       "    </tr>\n",
       "    <tr>\n",
       "      <th>1</th>\n",
       "      <td>Anohana: The Flower We Saw That Day</td>\n",
       "      <td>84.42%</td>\n",
       "      <td>Drama, Supernatural</td>\n",
       "      <td>Jinta Yadomi is peacefully living as a recluse, spending his days away from school and playing video games at home instead. One hot summer day, his childhood friend, Meiko \"Menma\" Honma, appears and pesters him to grant a forgotten wish. He pays her no mind, which annoys her, but he doesn't really care. After all, Menma already died years ago.\\n\\nAt first, Jinta thinks that he is merely hallucinating due to the summer heat, but he is later on convinced that what he sees truly is the ghost of Menma. Jinta and his group of childhood friends grew apart after her untimely death, but they are drawn together once more as they try to lay Menma's spirit to rest. Re-living their pain and guilt, will they be able to find the strength to help not only Menma move on—but themselves as well?</td>\n",
       "    </tr>\n",
       "    <tr>\n",
       "      <th>0</th>\n",
       "      <td>Steins;Gate</td>\n",
       "      <td>83.62%</td>\n",
       "      <td>Drama, Sci-Fi, Suspense</td>\n",
       "      <td>Eccentric scientist Rintarou Okabe has a never-ending thirst for scientific exploration. Together with his ditzy but well-meaning friend Mayuri Shiina and his roommate Itaru Hashida, Rintarou founds the Future Gadget Laboratory in the hopes of creating technological innovations that baffle the human psyche. Despite claims of grandeur, the only notable \"gadget\" the trio have created is a microwave that has the mystifying power to turn bananas into green goo.\\n\\nHowever, when Rintarou decides to attend neuroscientist Kurisu Makise's conference on time travel, he experiences a series of strange events that lead him to believe that there is more to the \"Phone Microwave\" gadget than meets the eye. Apparently able to send text messages into the past using the microwave, Rintarou dabbles further with the \"time machine,\" attracting the ire and attention of the mysterious organization SERN.\\n\\nDue to the novel discovery, Rintarou and his friends find themselves in an ever-present danger. As he works to mitigate the damage his invention has caused to the timeline, he is not only fighting a battle to save his loved ones, but also one against his degrading sanity.</td>\n",
       "    </tr>\n",
       "  </tbody>\n",
       "</table>\n",
       "</div>"
      ],
      "text/plain": [
       "                                  Name Similarity  \\\n",
       "4                               ERASED     87.50%   \n",
       "3                           Your Name.     87.15%   \n",
       "2                       A Silent Voice     85.76%   \n",
       "1  Anohana: The Flower We Saw That Day     84.42%   \n",
       "0                          Steins;Gate     83.62%   \n",
       "\n",
       "                               Genres  \\\n",
       "4     Mystery, Supernatural, Suspense   \n",
       "3  Award Winning, Drama, Supernatural   \n",
       "2                Award Winning, Drama   \n",
       "1                 Drama, Supernatural   \n",
       "0             Drama, Sci-Fi, Suspense   \n",
       "\n",
       "                                                                                                                                                                                                                                                                                                                                                                                                                                                                                                                                                                                                                                                                                                                                                                                                                                                                                                                                                                                                                                                                                                                                                                                                             Synopsis  \n",
       "4                                                                                                                                                                                                                                                                                                                            When tragedy is about to strike, Satoru Fujinuma finds himself sent back several minutes before the accident occurs. The detached, 29-year-old manga artist has taken advantage of this powerful yet mysterious phenomenon, which he calls \"Revival,\" to save many lives.\\n \\nHowever, when he is wrongfully accused of murdering someone close to him, Satoru is sent back to the past once again, but this time to 1988, 18 years in the past. Soon, he realizes that the murder may be connected to the abduction and killing of one of his classmates, the solitary and mysterious Kayo Hinazuki, that took place when he was a child. This is his chance to make things right.\\n \\nBoku dake ga Inai Machi follows Satoru in his mission to uncover what truly transpired 18 years ago and prevent the death of his classmate while protecting those he cares about in the present.  \n",
       "3                                                                                                                                                                                                                                                                                                                                                         Mitsuha Miyamizu, a high school girl, yearns to live the life of a boy in the bustling city of Tokyo—a dream that stands in stark contrast to her present life in the countryside. Meanwhile in the city, Taki Tachibana lives a busy life as a high school student while juggling his part-time job and hopes for a future in architecture.\\n\\nOne day, Mitsuha awakens in a room that is not her own and suddenly finds herself living the dream life in Tokyo—but in Taki's body! Elsewhere, Taki finds himself living Mitsuha's life in the humble countryside. In pursuit of an answer to this strange phenomenon, they begin to search for one another.\\n\\nKimi no Na wa. revolves around Mitsuha and Taki's actions, which begin to have a dramatic impact on each other's lives, weaving them into a fabric held together by fate and circumstance.  \n",
       "2                                                                                                                                                                                                                                                 As a wild youth, elementary school student Shouya Ishida sought to beat boredom in the cruelest ways. When the deaf Shouko Nishimiya transfers into his class, Shouya and the rest of his class thoughtlessly bully her for fun. However, when her mother notifies the school, he is singled out and blamed for everything done to her. With Shouko transferring out of the school, Shouya is left at the mercy of his classmates. He is heartlessly ostracized all throughout elementary and middle school, while teachers turn a blind eye.\\n\\nNow in his third year of high school, Shouya is still plagued by his wrongdoings as a young boy. Sincerely regretting his past actions, he sets out on a journey of redemption: to meet Shouko once more and make amends.\\n\\nKoe no Katachi tells the heartwarming tale of Shouya's reunion with Shouko and his honest attempts to redeem himself, all while being continually haunted by the shadows of his past.  \n",
       "1                                                                                                                                                                                                                                                                                                                                                                                                Jinta Yadomi is peacefully living as a recluse, spending his days away from school and playing video games at home instead. One hot summer day, his childhood friend, Meiko \"Menma\" Honma, appears and pesters him to grant a forgotten wish. He pays her no mind, which annoys her, but he doesn't really care. After all, Menma already died years ago.\\n\\nAt first, Jinta thinks that he is merely hallucinating due to the summer heat, but he is later on convinced that what he sees truly is the ghost of Menma. Jinta and his group of childhood friends grew apart after her untimely death, but they are drawn together once more as they try to lay Menma's spirit to rest. Re-living their pain and guilt, will they be able to find the strength to help not only Menma move on—but themselves as well?  \n",
       "0  Eccentric scientist Rintarou Okabe has a never-ending thirst for scientific exploration. Together with his ditzy but well-meaning friend Mayuri Shiina and his roommate Itaru Hashida, Rintarou founds the Future Gadget Laboratory in the hopes of creating technological innovations that baffle the human psyche. Despite claims of grandeur, the only notable \"gadget\" the trio have created is a microwave that has the mystifying power to turn bananas into green goo.\\n\\nHowever, when Rintarou decides to attend neuroscientist Kurisu Makise's conference on time travel, he experiences a series of strange events that lead him to believe that there is more to the \"Phone Microwave\" gadget than meets the eye. Apparently able to send text messages into the past using the microwave, Rintarou dabbles further with the \"time machine,\" attracting the ire and attention of the mysterious organization SERN.\\n\\nDue to the novel discovery, Rintarou and his friends find themselves in an ever-present danger. As he works to mitigate the damage his invention has caused to the timeline, he is not only fighting a battle to save his loved ones, but also one against his degrading sanity.  "
      ]
     },
     "execution_count": 22,
     "metadata": {},
     "output_type": "execute_result"
    }
   ],
   "source": [
    "find_similar_animes('Shigatsu wa Kimi no Uso', n=5, neg=False) # Your Lie in April"
   ]
  },
  {
   "cell_type": "code",
   "execution_count": 23,
   "id": "c64945df",
   "metadata": {
    "execution": {
     "iopub.execute_input": "2023-07-28T06:12:14.169241Z",
     "iopub.status.busy": "2023-07-28T06:12:14.168878Z",
     "iopub.status.idle": "2023-07-28T06:12:14.217623Z",
     "shell.execute_reply": "2023-07-28T06:12:14.215514Z"
    },
    "papermill": {
     "duration": 0.158074,
     "end_time": "2023-07-28T06:12:14.222417",
     "exception": false,
     "start_time": "2023-07-28T06:12:14.064343",
     "status": "completed"
    },
    "tags": []
   },
   "outputs": [
    {
     "name": "stdout",
     "output_type": "stream",
     "text": [
      "Animes closest to One Punch Man\n"
     ]
    },
    {
     "data": {
      "text/html": [
       "<div>\n",
       "<style scoped>\n",
       "    .dataframe tbody tr th:only-of-type {\n",
       "        vertical-align: middle;\n",
       "    }\n",
       "\n",
       "    .dataframe tbody tr th {\n",
       "        vertical-align: top;\n",
       "    }\n",
       "\n",
       "    .dataframe thead th {\n",
       "        text-align: right;\n",
       "    }\n",
       "</style>\n",
       "<table border=\"1\" class=\"dataframe\">\n",
       "  <thead>\n",
       "    <tr style=\"text-align: right;\">\n",
       "      <th></th>\n",
       "      <th>Name</th>\n",
       "      <th>Similarity</th>\n",
       "      <th>Genres</th>\n",
       "      <th>Synopsis</th>\n",
       "    </tr>\n",
       "  </thead>\n",
       "  <tbody>\n",
       "    <tr>\n",
       "      <th>4</th>\n",
       "      <td>Your Name.</td>\n",
       "      <td>87.65%</td>\n",
       "      <td>Award Winning, Drama, Supernatural</td>\n",
       "      <td>Mitsuha Miyamizu, a high school girl, yearns to live the life of a boy in the bustling city of Tokyo—a dream that stands in stark contrast to her present life in the countryside. Meanwhile in the city, Taki Tachibana lives a busy life as a high school student while juggling his part-time job and hopes for a future in architecture.\\n\\nOne day, Mitsuha awakens in a room that is not her own and suddenly finds herself living the dream life in Tokyo—but in Taki's body! Elsewhere, Taki finds himself living Mitsuha's life in the humble countryside. In pursuit of an answer to this strange phenomenon, they begin to search for one another.\\n\\nKimi no Na wa. revolves around Mitsuha and Taki's actions, which begin to have a dramatic impact on each other's lives, weaving them into a fabric held together by fate and circumstance.</td>\n",
       "    </tr>\n",
       "    <tr>\n",
       "      <th>3</th>\n",
       "      <td>Haikyu!! 3rd Season</td>\n",
       "      <td>87.30%</td>\n",
       "      <td>Sports</td>\n",
       "      <td>After the victory against Aoba Jousai High, Karasuno High School, once called “a fallen powerhouse, a crow that can’t fly,” has finally reached the climax of the heated Spring tournament. Now, to advance to nationals, the Karasuno team has to defeat the powerhouse Shiratorizawa Academy. Karasuno’s greatest hurdle is their adversary’s ace, Wakatoshi Ushijima, the number one player in the Miyagi Prefecture, and one of the country’s top three aces.\\n\\nOnly the strongest team will make it to the national tournament. Since this match is the third-year players’ last chance to qualify for nationals, Karasuno has to use everything they learned during the training camp and prior matches to attain victory. Filled with restlessness and excitement, both teams are determined to come out on top in the third season of Haikyuu!!.</td>\n",
       "    </tr>\n",
       "    <tr>\n",
       "      <th>2</th>\n",
       "      <td>Hunter x Hunter</td>\n",
       "      <td>87.00%</td>\n",
       "      <td>Action, Adventure, Fantasy</td>\n",
       "      <td>Hunters devote themselves to accomplishing hazardous tasks, all from traversing the world's uncharted territories to locating rare items and monsters. Before becoming a Hunter, one must pass the Hunter Examination—a high-risk selection process in which most applicants end up handicapped or worse, deceased.\\n\\nAmbitious participants who challenge the notorious exam carry their own reason. What drives 12-year-old Gon Freecss is finding Ging, his father and a Hunter himself. Believing that he will meet his father by becoming a Hunter, Gon takes the first step to walk the same path.\\n\\nDuring the Hunter Examination, Gon befriends the medical student Leorio Paladiknight, the vindictive Kurapika, and ex-assassin Killua Zoldyck. While their motives vastly differ from each other, they band together for a common goal and begin to venture into a perilous world.</td>\n",
       "    </tr>\n",
       "    <tr>\n",
       "      <th>1</th>\n",
       "      <td>Fullmetal Alchemist: Brotherhood</td>\n",
       "      <td>86.74%</td>\n",
       "      <td>Action, Adventure, Drama, Fantasy</td>\n",
       "      <td>After a horrific alchemy experiment goes wrong in the Elric household, brothers Edward and Alphonse are left in a catastrophic new reality. Ignoring the alchemical principle banning human transmutation, the boys attempted to bring their recently deceased mother back to life. Instead, they suffered brutal personal loss: Alphonse's body disintegrated while Edward lost a leg and then sacrificed an arm to keep Alphonse's soul in the physical realm by binding it to a hulking suit of armor.\\n\\nThe brothers are rescued by their neighbor Pinako Rockbell and her granddaughter Winry. Known as a bio-mechanical engineering prodigy, Winry creates prosthetic limbs for Edward by utilizing \"automail,\" a tough, versatile metal used in robots and combat armor. After years of training, the Elric brothers set off on a quest to restore their bodies by locating the Philosopher's Stone—a powerful gem that allows an alchemist to defy the traditional laws of Equivalent Exchange.\\n\\nAs Edward becomes an infamous alchemist and gains the nickname \"Fullmetal,\" the boys' journey embroils them in a growing conspiracy that threatens the fate of the world.</td>\n",
       "    </tr>\n",
       "    <tr>\n",
       "      <th>0</th>\n",
       "      <td>Made in Abyss</td>\n",
       "      <td>86.29%</td>\n",
       "      <td>Adventure, Drama, Fantasy, Mystery, Sci-Fi</td>\n",
       "      <td>The Abyss—a gaping chasm stretching down into the depths of the earth, filled with mysterious creatures and relics from a time long past. How did it come to be? What lies at the bottom? Countless brave individuals, known as Divers, have sought to solve these mysteries of the Abyss, fearlessly descending into its darkest realms. The best and bravest of the Divers, the White Whistles, are hailed as legends by those who remain on the surface.\\n\\nRiko, daughter of the missing White Whistle Lyza the Annihilator, aspires to become like her mother and explore the furthest reaches of the Abyss. However, just a novice Red Whistle herself, she is only permitted to roam its most upper layer. Even so, Riko has a chance encounter with a mysterious robot with the appearance of an ordinary young boy. She comes to name him Reg, and he has no recollection of the events preceding his discovery. Certain that the technology to create Reg must come from deep within the Abyss, the two decide to venture forth into the chasm to recover his memories and see the bottom of the great pit with their own eyes. However, they know not of the harsh reality that is the true existence of the Abyss.</td>\n",
       "    </tr>\n",
       "  </tbody>\n",
       "</table>\n",
       "</div>"
      ],
      "text/plain": [
       "                               Name Similarity  \\\n",
       "4                        Your Name.     87.65%   \n",
       "3               Haikyu!! 3rd Season     87.30%   \n",
       "2                   Hunter x Hunter     87.00%   \n",
       "1  Fullmetal Alchemist: Brotherhood     86.74%   \n",
       "0                     Made in Abyss     86.29%   \n",
       "\n",
       "                                       Genres  \\\n",
       "4          Award Winning, Drama, Supernatural   \n",
       "3                                      Sports   \n",
       "2                  Action, Adventure, Fantasy   \n",
       "1           Action, Adventure, Drama, Fantasy   \n",
       "0  Adventure, Drama, Fantasy, Mystery, Sci-Fi   \n",
       "\n",
       "                                                                                                                                                                                                                                                                                                                                                                                                                                                                                                                                                                                                                                                                                                                                                                                                                                                                                                                                                                                                                                                                                                                                                                                                                         Synopsis  \n",
       "4                                                                                                                                                                                                                                                                                                                                                                     Mitsuha Miyamizu, a high school girl, yearns to live the life of a boy in the bustling city of Tokyo—a dream that stands in stark contrast to her present life in the countryside. Meanwhile in the city, Taki Tachibana lives a busy life as a high school student while juggling his part-time job and hopes for a future in architecture.\\n\\nOne day, Mitsuha awakens in a room that is not her own and suddenly finds herself living the dream life in Tokyo—but in Taki's body! Elsewhere, Taki finds himself living Mitsuha's life in the humble countryside. In pursuit of an answer to this strange phenomenon, they begin to search for one another.\\n\\nKimi no Na wa. revolves around Mitsuha and Taki's actions, which begin to have a dramatic impact on each other's lives, weaving them into a fabric held together by fate and circumstance.  \n",
       "3                                                                                                                                                                                                                                                                                                                                                                       After the victory against Aoba Jousai High, Karasuno High School, once called “a fallen powerhouse, a crow that can’t fly,” has finally reached the climax of the heated Spring tournament. Now, to advance to nationals, the Karasuno team has to defeat the powerhouse Shiratorizawa Academy. Karasuno’s greatest hurdle is their adversary’s ace, Wakatoshi Ushijima, the number one player in the Miyagi Prefecture, and one of the country’s top three aces.\\n\\nOnly the strongest team will make it to the national tournament. Since this match is the third-year players’ last chance to qualify for nationals, Karasuno has to use everything they learned during the training camp and prior matches to attain victory. Filled with restlessness and excitement, both teams are determined to come out on top in the third season of Haikyuu!!.  \n",
       "2                                                                                                                                                                                                                                                                                                                                 Hunters devote themselves to accomplishing hazardous tasks, all from traversing the world's uncharted territories to locating rare items and monsters. Before becoming a Hunter, one must pass the Hunter Examination—a high-risk selection process in which most applicants end up handicapped or worse, deceased.\\n\\nAmbitious participants who challenge the notorious exam carry their own reason. What drives 12-year-old Gon Freecss is finding Ging, his father and a Hunter himself. Believing that he will meet his father by becoming a Hunter, Gon takes the first step to walk the same path.\\n\\nDuring the Hunter Examination, Gon befriends the medical student Leorio Paladiknight, the vindictive Kurapika, and ex-assassin Killua Zoldyck. While their motives vastly differ from each other, they band together for a common goal and begin to venture into a perilous world.  \n",
       "1                                           After a horrific alchemy experiment goes wrong in the Elric household, brothers Edward and Alphonse are left in a catastrophic new reality. Ignoring the alchemical principle banning human transmutation, the boys attempted to bring their recently deceased mother back to life. Instead, they suffered brutal personal loss: Alphonse's body disintegrated while Edward lost a leg and then sacrificed an arm to keep Alphonse's soul in the physical realm by binding it to a hulking suit of armor.\\n\\nThe brothers are rescued by their neighbor Pinako Rockbell and her granddaughter Winry. Known as a bio-mechanical engineering prodigy, Winry creates prosthetic limbs for Edward by utilizing \"automail,\" a tough, versatile metal used in robots and combat armor. After years of training, the Elric brothers set off on a quest to restore their bodies by locating the Philosopher's Stone—a powerful gem that allows an alchemist to defy the traditional laws of Equivalent Exchange.\\n\\nAs Edward becomes an infamous alchemist and gains the nickname \"Fullmetal,\" the boys' journey embroils them in a growing conspiracy that threatens the fate of the world.  \n",
       "0  The Abyss—a gaping chasm stretching down into the depths of the earth, filled with mysterious creatures and relics from a time long past. How did it come to be? What lies at the bottom? Countless brave individuals, known as Divers, have sought to solve these mysteries of the Abyss, fearlessly descending into its darkest realms. The best and bravest of the Divers, the White Whistles, are hailed as legends by those who remain on the surface.\\n\\nRiko, daughter of the missing White Whistle Lyza the Annihilator, aspires to become like her mother and explore the furthest reaches of the Abyss. However, just a novice Red Whistle herself, she is only permitted to roam its most upper layer. Even so, Riko has a chance encounter with a mysterious robot with the appearance of an ordinary young boy. She comes to name him Reg, and he has no recollection of the events preceding his discovery. Certain that the technology to create Reg must come from deep within the Abyss, the two decide to venture forth into the chasm to recover his memories and see the bottom of the great pit with their own eyes. However, they know not of the harsh reality that is the true existence of the Abyss.  "
      ]
     },
     "execution_count": 23,
     "metadata": {},
     "output_type": "execute_result"
    }
   ],
   "source": [
    "find_similar_animes('One Punch Man', n=5, neg=False)"
   ]
  },
  {
   "cell_type": "code",
   "execution_count": 24,
   "id": "fdc3434f",
   "metadata": {
    "execution": {
     "iopub.execute_input": "2023-07-28T06:12:14.489211Z",
     "iopub.status.busy": "2023-07-28T06:12:14.488319Z",
     "iopub.status.idle": "2023-07-28T06:12:14.537774Z",
     "shell.execute_reply": "2023-07-28T06:12:14.535625Z"
    },
    "papermill": {
     "duration": 0.159066,
     "end_time": "2023-07-28T06:12:14.542506",
     "exception": false,
     "start_time": "2023-07-28T06:12:14.383440",
     "status": "completed"
    },
    "tags": []
   },
   "outputs": [
    {
     "name": "stdout",
     "output_type": "stream",
     "text": [
      "Animes closest to Mushoku Tensei: Isekai Ittara Honki Dasu\n"
     ]
    },
    {
     "data": {
      "text/html": [
       "<div>\n",
       "<style scoped>\n",
       "    .dataframe tbody tr th:only-of-type {\n",
       "        vertical-align: middle;\n",
       "    }\n",
       "\n",
       "    .dataframe tbody tr th {\n",
       "        vertical-align: top;\n",
       "    }\n",
       "\n",
       "    .dataframe thead th {\n",
       "        text-align: right;\n",
       "    }\n",
       "</style>\n",
       "<table border=\"1\" class=\"dataframe\">\n",
       "  <thead>\n",
       "    <tr style=\"text-align: right;\">\n",
       "      <th></th>\n",
       "      <th>Name</th>\n",
       "      <th>Similarity</th>\n",
       "      <th>Genres</th>\n",
       "      <th>Synopsis</th>\n",
       "    </tr>\n",
       "  </thead>\n",
       "  <tbody>\n",
       "    <tr>\n",
       "      <th>4</th>\n",
       "      <td>Mushoku Tensei: Jobless Reincarnation Part 2</td>\n",
       "      <td>85.52%</td>\n",
       "      <td>Drama, Fantasy, Ecchi</td>\n",
       "      <td>After the mysterious mana calamity, Rudeus Greyrat and his fierce student Eris Boreas Greyrat are teleported to the Demon Continent. There, they team up with their newfound companion Ruijerd Supardia—the former leader of the Superd's Warrior group—to form \"Dead End,\" a successful adventurer party. Making a name for themselves, the trio journeys across the continent to make their way back home to Fittoa.\\n\\nFollowing the advice he received from the faceless god Hitogami, Rudeus saves Kishirika Kishirisu, the Great Emperor of the Demon World, who rewards him by granting him a strange power. Now, as Rudeus masters the powerful ability that offers a number of new opportunities, it might prove to be more than what he bargained for when unexpected dangers threaten to hinder their travels.</td>\n",
       "    </tr>\n",
       "    <tr>\n",
       "      <th>3</th>\n",
       "      <td>Demon Slayer: Kimetsu no Yaiba</td>\n",
       "      <td>70.81%</td>\n",
       "      <td>Action, Award Winning, Fantasy</td>\n",
       "      <td>Ever since the death of his father, the burden of supporting the family has fallen upon Tanjirou Kamado's shoulders. Though living impoverished on a remote mountain, the Kamado family are able to enjoy a relatively peaceful and happy life. One day, Tanjirou decides to go down to the local village to make a little money selling charcoal. On his way back, night falls, forcing Tanjirou to take shelter in the house of a strange man, who warns him of the existence of flesh-eating demons that lurk in the woods at night.\\n\\nWhen he finally arrives back home the next day, he is met with a horrifying sight—his whole family has been slaughtered. Worse still, the sole survivor is his sister Nezuko, who has been turned into a bloodthirsty demon. Consumed by rage and hatred, Tanjirou swears to avenge his family and stay by his only remaining sibling. Alongside the mysterious group calling themselves the Demon Slayer Corps, Tanjirou will do whatever it takes to slay the demons and protect the remnants of his beloved sister's humanity.</td>\n",
       "    </tr>\n",
       "    <tr>\n",
       "      <th>2</th>\n",
       "      <td>Demon Slayer: Kimetsu no Yaiba - The Movie: Mugen Train</td>\n",
       "      <td>68.76%</td>\n",
       "      <td>Action, Fantasy</td>\n",
       "      <td>After a string of mysterious disappearances begin to plague a train, the Demon Slayer Corps' multiple attempts to remedy the problem prove fruitless. To prevent further casualties, the Flame Pillar, Kyoujurou Rengoku, takes it upon himself to eliminate the threat. Accompanying him are some of the Corps' most promising new blood: Tanjirou Kamado, Zenitsu Agatsuma, and Inosuke Hashibira, who all hope to witness the fiery feats of this model demon slayer firsthand.\\n\\nUnbeknownst to them, the demonic forces responsible for the disappearances have already put their sinister plan in motion. Under this demonic presence, the group must muster every ounce of their willpower and draw their swords to save all two hundred passengers onboard. Kimetsu no Yaiba Movie: Mugen Ressha-hen delves into the deepest corners of Tanjirou's mind, putting his resolve and commitment to duty to the test.</td>\n",
       "    </tr>\n",
       "    <tr>\n",
       "      <th>1</th>\n",
       "      <td>Demon Slayer: Kimetsu no Yaiba Entertainment District Arc</td>\n",
       "      <td>68.16%</td>\n",
       "      <td>Action, Fantasy</td>\n",
       "      <td>The devastation of the Mugen Train incident still weighs heavily on the members of the Demon Slayer Corps. Despite being given time to recover, life must go on, as the wicked never sleep: a vicious demon is terrorizing the alluring women of the Yoshiwara Entertainment District. The Sound Pillar, Tengen Uzui, and his three wives are on the case. However, when he soon loses contact with his spouses, Tengen fears the worst and enlists the help of Tanjirou Kamado, Zenitsu Agatsuma, and Inosuke Hashibira to infiltrate the district's most prominent houses and locate the depraved Upper Rank demon.</td>\n",
       "    </tr>\n",
       "    <tr>\n",
       "      <th>0</th>\n",
       "      <td>That Time I Got Reincarnated as a Slime Season 2</td>\n",
       "      <td>67.94%</td>\n",
       "      <td>Action, Adventure, Comedy, Fantasy</td>\n",
       "      <td>Taking a break from his time as a teacher, the powerful slime Rimuru Tempest returns to his kingdom, eponymously named Tempest, just in time to begin negotiations with a nearby nation—the Kingdom of Eurazania. While the negotiations are anything but peaceful, they do end successfully, allowing Rimuru to return and finish teaching. When trying to again return to Tempest, this time permanently, Rimuru is stopped by a mysterious figure who is somehow able to constrain the many magical abilities he has at his disposal. \\n\\nIn Tempest, the situation is even worse. A group of unknown humans has invaded the land and are assaulting its citizens, both influential and innocent. They are not just trying to bring harm either—they have the intent to kill. Can Rimuru overcome his powerful and dangerous foe and return to Tempest before it is too late?</td>\n",
       "    </tr>\n",
       "  </tbody>\n",
       "</table>\n",
       "</div>"
      ],
      "text/plain": [
       "                                                        Name Similarity  \\\n",
       "4               Mushoku Tensei: Jobless Reincarnation Part 2     85.52%   \n",
       "3                             Demon Slayer: Kimetsu no Yaiba     70.81%   \n",
       "2    Demon Slayer: Kimetsu no Yaiba - The Movie: Mugen Train     68.76%   \n",
       "1  Demon Slayer: Kimetsu no Yaiba Entertainment District Arc     68.16%   \n",
       "0           That Time I Got Reincarnated as a Slime Season 2     67.94%   \n",
       "\n",
       "                               Genres  \\\n",
       "4               Drama, Fantasy, Ecchi   \n",
       "3      Action, Award Winning, Fantasy   \n",
       "2                     Action, Fantasy   \n",
       "1                     Action, Fantasy   \n",
       "0  Action, Adventure, Comedy, Fantasy   \n",
       "\n",
       "                                                                                                                                                                                                                                                                                                                                                                                                                                                                                                                                                                                                                                                                                                                                                                                                                                                                                                                                                                                                                                                                       Synopsis  \n",
       "4                                                                                                                                                                                                                                                     After the mysterious mana calamity, Rudeus Greyrat and his fierce student Eris Boreas Greyrat are teleported to the Demon Continent. There, they team up with their newfound companion Ruijerd Supardia—the former leader of the Superd's Warrior group—to form \"Dead End,\" a successful adventurer party. Making a name for themselves, the trio journeys across the continent to make their way back home to Fittoa.\\n\\nFollowing the advice he received from the faceless god Hitogami, Rudeus saves Kishirika Kishirisu, the Great Emperor of the Demon World, who rewards him by granting him a strange power. Now, as Rudeus masters the powerful ability that offers a number of new opportunities, it might prove to be more than what he bargained for when unexpected dangers threaten to hinder their travels.  \n",
       "3  Ever since the death of his father, the burden of supporting the family has fallen upon Tanjirou Kamado's shoulders. Though living impoverished on a remote mountain, the Kamado family are able to enjoy a relatively peaceful and happy life. One day, Tanjirou decides to go down to the local village to make a little money selling charcoal. On his way back, night falls, forcing Tanjirou to take shelter in the house of a strange man, who warns him of the existence of flesh-eating demons that lurk in the woods at night.\\n\\nWhen he finally arrives back home the next day, he is met with a horrifying sight—his whole family has been slaughtered. Worse still, the sole survivor is his sister Nezuko, who has been turned into a bloodthirsty demon. Consumed by rage and hatred, Tanjirou swears to avenge his family and stay by his only remaining sibling. Alongside the mysterious group calling themselves the Demon Slayer Corps, Tanjirou will do whatever it takes to slay the demons and protect the remnants of his beloved sister's humanity.  \n",
       "2                                                                                                                                                     After a string of mysterious disappearances begin to plague a train, the Demon Slayer Corps' multiple attempts to remedy the problem prove fruitless. To prevent further casualties, the Flame Pillar, Kyoujurou Rengoku, takes it upon himself to eliminate the threat. Accompanying him are some of the Corps' most promising new blood: Tanjirou Kamado, Zenitsu Agatsuma, and Inosuke Hashibira, who all hope to witness the fiery feats of this model demon slayer firsthand.\\n\\nUnbeknownst to them, the demonic forces responsible for the disappearances have already put their sinister plan in motion. Under this demonic presence, the group must muster every ounce of their willpower and draw their swords to save all two hundred passengers onboard. Kimetsu no Yaiba Movie: Mugen Ressha-hen delves into the deepest corners of Tanjirou's mind, putting his resolve and commitment to duty to the test.  \n",
       "1                                                                                                                                                                                                                                                                                                                                                                                                                                                         The devastation of the Mugen Train incident still weighs heavily on the members of the Demon Slayer Corps. Despite being given time to recover, life must go on, as the wicked never sleep: a vicious demon is terrorizing the alluring women of the Yoshiwara Entertainment District. The Sound Pillar, Tengen Uzui, and his three wives are on the case. However, when he soon loses contact with his spouses, Tengen fears the worst and enlists the help of Tanjirou Kamado, Zenitsu Agatsuma, and Inosuke Hashibira to infiltrate the district's most prominent houses and locate the depraved Upper Rank demon.  \n",
       "0                                                                                                                                                                                              Taking a break from his time as a teacher, the powerful slime Rimuru Tempest returns to his kingdom, eponymously named Tempest, just in time to begin negotiations with a nearby nation—the Kingdom of Eurazania. While the negotiations are anything but peaceful, they do end successfully, allowing Rimuru to return and finish teaching. When trying to again return to Tempest, this time permanently, Rimuru is stopped by a mysterious figure who is somehow able to constrain the many magical abilities he has at his disposal. \\n\\nIn Tempest, the situation is even worse. A group of unknown humans has invaded the land and are assaulting its citizens, both influential and innocent. They are not just trying to bring harm either—they have the intent to kill. Can Rimuru overcome his powerful and dangerous foe and return to Tempest before it is too late?  "
      ]
     },
     "execution_count": 24,
     "metadata": {},
     "output_type": "execute_result"
    }
   ],
   "source": [
    "find_similar_animes('Mushoku Tensei: Isekai Ittara Honki Dasu', n=5, neg=False)"
   ]
  },
  {
   "cell_type": "markdown",
   "id": "4857bb00",
   "metadata": {
    "papermill": {
     "duration": 0.103728,
     "end_time": "2023-07-28T06:12:14.806423",
     "exception": false,
     "start_time": "2023-07-28T06:12:14.702695",
     "status": "completed"
    },
    "tags": []
   },
   "source": [
    "# 2: User Based Recommendation\n",
    "#### (The user-based recommendation system is divided into three parts:)"
   ]
  },
  {
   "cell_type": "markdown",
   "id": "6a43717d",
   "metadata": {
    "papermill": {
     "duration": 0.110295,
     "end_time": "2023-07-28T06:12:15.023132",
     "exception": false,
     "start_time": "2023-07-28T06:12:14.912837",
     "status": "completed"
    },
    "tags": []
   },
   "source": [
    "## Part 1: Finding Similar Users\n",
    "#### In this part, we randomly select a user from the dataset and find similar users based on their anime preferences. The find_similar_users function calculates the similarity between users using a weighted matrix and returns a dataframe of similar users. The function takes an input user, number of similar users to find (n), and other optional parameters. The result is a list of similar users to the input user."
   ]
  },
  {
   "cell_type": "code",
   "execution_count": 25,
   "id": "60f58f0d",
   "metadata": {
    "execution": {
     "iopub.execute_input": "2023-07-28T06:12:15.235240Z",
     "iopub.status.busy": "2023-07-28T06:12:15.234275Z",
     "iopub.status.idle": "2023-07-28T06:12:15.244967Z",
     "shell.execute_reply": "2023-07-28T06:12:15.243814Z"
    },
    "papermill": {
     "duration": 0.119567,
     "end_time": "2023-07-28T06:12:15.247199",
     "exception": false,
     "start_time": "2023-07-28T06:12:15.127632",
     "status": "completed"
    },
    "tags": []
   },
   "outputs": [],
   "source": [
    "def find_similar_users(item_input, n=10, return_dist=False, neg=False):\n",
    "    try:\n",
    "        index = item_input\n",
    "        encoded_index = user_encoder.transform([index])[0]\n",
    "        weights = user_weights\n",
    "        dists = np.dot(weights, weights[encoded_index])\n",
    "        sorted_dists = np.argsort(dists)\n",
    "        n = n + 1\n",
    "        \n",
    "        if neg:\n",
    "            closest = sorted_dists[:n]\n",
    "        else:\n",
    "            closest = sorted_dists[-n:]\n",
    "            \n",
    "        SimilarityArr = []\n",
    "        \n",
    "        for close in closest:\n",
    "            similarity = dists[close]\n",
    "            if isinstance(item_input, int):\n",
    "                decoded_id = user_encoder.inverse_transform([close])[0]\n",
    "                SimilarityArr.append({\"similar_users\": decoded_id, \"similarity\": similarity})\n",
    "        Frame = pd.DataFrame(SimilarityArr).sort_values(by=\"similarity\", ascending=False)\n",
    "        return Frame\n",
    "    except:\n",
    "        print('\\033[1m{}\\033[0m, Not Found in User list'.format(item_input))"
   ]
  },
  {
   "cell_type": "code",
   "execution_count": 26,
   "id": "8d2926d3",
   "metadata": {
    "execution": {
     "iopub.execute_input": "2023-07-28T06:12:15.510666Z",
     "iopub.status.busy": "2023-07-28T06:12:15.510241Z",
     "iopub.status.idle": "2023-07-28T06:12:16.651497Z",
     "shell.execute_reply": "2023-07-28T06:12:16.650124Z"
    },
    "papermill": {
     "duration": 1.297559,
     "end_time": "2023-07-28T06:12:16.653733",
     "exception": false,
     "start_time": "2023-07-28T06:12:15.356174",
     "status": "completed"
    },
    "tags": []
   },
   "outputs": [
    {
     "data": {
      "text/html": [
       "<div>\n",
       "<style scoped>\n",
       "    .dataframe tbody tr th:only-of-type {\n",
       "        vertical-align: middle;\n",
       "    }\n",
       "\n",
       "    .dataframe tbody tr th {\n",
       "        vertical-align: top;\n",
       "    }\n",
       "\n",
       "    .dataframe thead th {\n",
       "        text-align: right;\n",
       "    }\n",
       "</style>\n",
       "<table border=\"1\" class=\"dataframe\">\n",
       "  <thead>\n",
       "    <tr style=\"text-align: right;\">\n",
       "      <th></th>\n",
       "      <th>similar_users</th>\n",
       "      <th>similarity</th>\n",
       "    </tr>\n",
       "  </thead>\n",
       "  <tbody>\n",
       "    <tr>\n",
       "      <th>9</th>\n",
       "      <td>1130717</td>\n",
       "      <td>0.453250</td>\n",
       "    </tr>\n",
       "    <tr>\n",
       "      <th>8</th>\n",
       "      <td>1231531</td>\n",
       "      <td>0.434793</td>\n",
       "    </tr>\n",
       "    <tr>\n",
       "      <th>7</th>\n",
       "      <td>295076</td>\n",
       "      <td>0.430152</td>\n",
       "    </tr>\n",
       "    <tr>\n",
       "      <th>6</th>\n",
       "      <td>470395</td>\n",
       "      <td>0.429082</td>\n",
       "    </tr>\n",
       "    <tr>\n",
       "      <th>5</th>\n",
       "      <td>59575</td>\n",
       "      <td>0.428752</td>\n",
       "    </tr>\n",
       "    <tr>\n",
       "      <th>4</th>\n",
       "      <td>45217</td>\n",
       "      <td>0.422586</td>\n",
       "    </tr>\n",
       "    <tr>\n",
       "      <th>3</th>\n",
       "      <td>19774</td>\n",
       "      <td>0.420466</td>\n",
       "    </tr>\n",
       "    <tr>\n",
       "      <th>2</th>\n",
       "      <td>42841</td>\n",
       "      <td>0.416204</td>\n",
       "    </tr>\n",
       "    <tr>\n",
       "      <th>1</th>\n",
       "      <td>373095</td>\n",
       "      <td>0.410574</td>\n",
       "    </tr>\n",
       "    <tr>\n",
       "      <th>0</th>\n",
       "      <td>78877</td>\n",
       "      <td>0.408759</td>\n",
       "    </tr>\n",
       "  </tbody>\n",
       "</table>\n",
       "</div>"
      ],
      "text/plain": [
       "   similar_users  similarity\n",
       "9        1130717    0.453250\n",
       "8        1231531    0.434793\n",
       "7         295076    0.430152\n",
       "6         470395    0.429082\n",
       "5          59575    0.428752\n",
       "4          45217    0.422586\n",
       "3          19774    0.420466\n",
       "2          42841    0.416204\n",
       "1         373095    0.410574\n",
       "0          78877    0.408759"
      ]
     },
     "execution_count": 26,
     "metadata": {},
     "output_type": "execute_result"
    }
   ],
   "source": [
    "# Select a random user\n",
    "ratings_per_user = df.groupby('user_id').size()\n",
    "random_user = int(ratings_per_user[ratings_per_user < 500].sample(1, random_state=None).index[0])\n",
    "\n",
    "# Find similar users to the random user\n",
    "similar_users = find_similar_users(random_user, n=10, neg=False)\n",
    "similar_users = similar_users[similar_users.similarity > 0.4]\n",
    "similar_users = similar_users[similar_users.similar_users != random_user]\n",
    "similar_users"
   ]
  },
  {
   "cell_type": "markdown",
   "id": "c5103ab1",
   "metadata": {
    "papermill": {
     "duration": 0.104311,
     "end_time": "2023-07-28T06:12:16.874584",
     "exception": false,
     "start_time": "2023-07-28T06:12:16.770273",
     "status": "completed"
    },
    "tags": []
   },
   "source": [
    "## Part 2: User Preferences\n",
    "#### This part focuses on understanding the preferences of the selected user. The get_user_preferences function takes a user ID as input and retrieves the anime preferences of that user. It considers the top-rated animes by the user and analyzes the genres they prefer. The function also provides an option to plot a word cloud to visualize the preferred genres. The output is a dataframe containing the anime titles and their associated genres."
   ]
  },
  {
   "cell_type": "code",
   "execution_count": 27,
   "id": "65119377",
   "metadata": {
    "execution": {
     "iopub.execute_input": "2023-07-28T06:12:17.084857Z",
     "iopub.status.busy": "2023-07-28T06:12:17.083899Z",
     "iopub.status.idle": "2023-07-28T06:12:17.097154Z",
     "shell.execute_reply": "2023-07-28T06:12:17.095984Z"
    },
    "papermill": {
     "duration": 0.121015,
     "end_time": "2023-07-28T06:12:17.099493",
     "exception": false,
     "start_time": "2023-07-28T06:12:16.978478",
     "status": "completed"
    },
    "tags": []
   },
   "outputs": [],
   "source": [
    "# Function to display a word cloud of preferred genres\n",
    "def showWordCloud(all_genres):\n",
    "    genres_cloud = WordCloud(width=700, height=400, background_color='white', colormap='gnuplot').generate_from_frequencies(all_genres)\n",
    "    plt.figure(figsize=(10, 8))\n",
    "    plt.imshow(genres_cloud, interpolation='bilinear')\n",
    "    plt.axis('off')\n",
    "    plt.show()\n",
    "\n",
    "def get_user_preferences(user_id, plot=False, verbose=0):\n",
    "    animes_watched_by_user = df[df['user_id'] == user_id]\n",
    "    \n",
    "    if animes_watched_by_user.empty:\n",
    "        print(\"User #{} has not watched any animes.\".format(user_id))\n",
    "        return pd.DataFrame()\n",
    "    \n",
    "    user_rating_percentile = np.percentile(animes_watched_by_user.rating, 75)\n",
    "    animes_watched_by_user = animes_watched_by_user[animes_watched_by_user.rating >= user_rating_percentile]\n",
    "    top_animes_user = (\n",
    "        animes_watched_by_user.sort_values(by=\"rating\", ascending=False)\n",
    "        .anime_id.values\n",
    "    )\n",
    "    \n",
    "    anime_df_rows = df_anime[df_anime[\"anime_id\"].isin(top_animes_user)]\n",
    "    anime_df_rows = anime_df_rows[[\"Name\", \"Genres\"]]\n",
    "    \n",
    "    if verbose != 0:\n",
    "        print(\"User \\033[1m{}\\033[0m has watched {} anime(s) with an average rating of {:.1f}/10\\n\".format(\n",
    "            user_id, len(animes_watched_by_user), animes_watched_by_user['rating'].mean()\n",
    "        ))\n",
    "        print('\\033[1m----- Preferred genres----- \\033[0m\\n')\n",
    "\n",
    "    if plot:\n",
    "        genres_list = []\n",
    "        for genres in anime_df_rows['Genres']:\n",
    "            if isinstance(genres, str):\n",
    "                for genre in genres.split(','):\n",
    "                    genres_list.append(genre.strip())\n",
    "\n",
    "        showWordCloud(dict(Counter(genres_list)))\n",
    "    \n",
    "    return anime_df_rows"
   ]
  },
  {
   "cell_type": "code",
   "execution_count": 28,
   "id": "b29b4af1",
   "metadata": {
    "execution": {
     "iopub.execute_input": "2023-07-28T06:12:17.308099Z",
     "iopub.status.busy": "2023-07-28T06:12:17.307751Z",
     "iopub.status.idle": "2023-07-28T06:12:17.722347Z",
     "shell.execute_reply": "2023-07-28T06:12:17.720907Z"
    },
    "papermill": {
     "duration": 0.521516,
     "end_time": "2023-07-28T06:12:17.724454",
     "exception": false,
     "start_time": "2023-07-28T06:12:17.202938",
     "status": "completed"
    },
    "tags": []
   },
   "outputs": [
    {
     "name": "stdout",
     "output_type": "stream",
     "text": [
      "User \u001b[1m1250753\u001b[0m has watched 3 anime(s) with an average rating of 10.0/10\n",
      "\n",
      "\u001b[1m----- Preferred genres----- \u001b[0m\n",
      "\n"
     ]
    },
    {
     "data": {
      "image/png": "[encoded data removed]",
      "text/plain": [
       "<Figure size 1000x800 with 1 Axes>"
      ]
     },
     "metadata": {},
     "output_type": "display_data"
    },
    {
     "data": {
      "text/html": [
       "<div>\n",
       "<style scoped>\n",
       "    .dataframe tbody tr th:only-of-type {\n",
       "        vertical-align: middle;\n",
       "    }\n",
       "\n",
       "    .dataframe tbody tr th {\n",
       "        vertical-align: top;\n",
       "    }\n",
       "\n",
       "    .dataframe thead th {\n",
       "        text-align: right;\n",
       "    }\n",
       "</style>\n",
       "<table border=\"1\" class=\"dataframe\">\n",
       "  <thead>\n",
       "    <tr style=\"text-align: right;\">\n",
       "      <th></th>\n",
       "      <th>Name</th>\n",
       "      <th>Genres</th>\n",
       "    </tr>\n",
       "  </thead>\n",
       "  <tbody>\n",
       "    <tr>\n",
       "      <th>298</th>\n",
       "      <td>Paradise Kiss</td>\n",
       "      <td>Drama, Romance</td>\n",
       "    </tr>\n",
       "    <tr>\n",
       "      <th>1393</th>\n",
       "      <td>Death Note</td>\n",
       "      <td>Supernatural, Suspense</td>\n",
       "    </tr>\n",
       "    <tr>\n",
       "      <th>4161</th>\n",
       "      <td>Pandora Hearts</td>\n",
       "      <td>Adventure, Fantasy, Mystery</td>\n",
       "    </tr>\n",
       "  </tbody>\n",
       "</table>\n",
       "</div>"
      ],
      "text/plain": [
       "                Name                       Genres\n",
       "298    Paradise Kiss               Drama, Romance\n",
       "1393      Death Note       Supernatural, Suspense\n",
       "4161  Pandora Hearts  Adventure, Fantasy, Mystery"
      ]
     },
     "execution_count": 28,
     "metadata": {},
     "output_type": "execute_result"
    }
   ],
   "source": [
    "# Get user preferences for the random user\n",
    "user_pref = get_user_preferences(random_user, plot=True, verbose=1)\n",
    "pd.DataFrame(user_pref).head(5)"
   ]
  },
  {
   "cell_type": "markdown",
   "id": "1c8ab263",
   "metadata": {
    "papermill": {
     "duration": 0.106274,
     "end_time": "2023-07-28T06:12:17.937994",
     "exception": false,
     "start_time": "2023-07-28T06:12:17.831720",
     "status": "completed"
    },
    "tags": []
   },
   "source": [
    "## Part 3: Recommending Animes for a User\n",
    "#### In the final part, we recommend animes to the selected user based on the preferences of similar users. The get_recommended_animes function iterates through the list of similar users, retrieves their preferences, and identifies animes that are not present in the preferences of the selected user. It then generates a list of recommended animes along with their genres and a brief synopsis. The output is a dataframe containing the recommended animes for the user."
   ]
  },
  {
   "cell_type": "code",
   "execution_count": 29,
   "id": "777e37c5",
   "metadata": {
    "execution": {
     "iopub.execute_input": "2023-07-28T06:12:18.150375Z",
     "iopub.status.busy": "2023-07-28T06:12:18.150000Z",
     "iopub.status.idle": "2023-07-28T06:12:18.163200Z",
     "shell.execute_reply": "2023-07-28T06:12:18.162196Z"
    },
    "papermill": {
     "duration": 0.122096,
     "end_time": "2023-07-28T06:12:18.165391",
     "exception": false,
     "start_time": "2023-07-28T06:12:18.043295",
     "status": "completed"
    },
    "tags": []
   },
   "outputs": [],
   "source": [
    "def get_recommended_animes(similar_users, user_pref, n=10):\n",
    "    recommended_animes = []\n",
    "    anime_list = []\n",
    "    \n",
    "    for user_id in similar_users.similar_users.values:\n",
    "        pref_list = get_user_preferences(int(user_id))\n",
    "        if not pref_list.empty:  # Check if user has watched any animes\n",
    "            pref_list = pref_list[~pref_list[\"Name\"].isin(user_pref[\"Name\"].values)]\n",
    "            anime_list.append(pref_list.Name.values)\n",
    "            \n",
    "    if len(anime_list) == 0:\n",
    "        print(\"No anime recommendations available for the given users.\")\n",
    "        return pd.DataFrame()\n",
    "    \n",
    "    anime_list = pd.DataFrame(anime_list)\n",
    "    sorted_list = pd.DataFrame(pd.Series(anime_list.values.ravel()).value_counts()).head(n)\n",
    "    # Count the occurrences of each anime in the entire dataset\n",
    "    anime_count = df['anime_id'].value_counts()\n",
    "    \n",
    "    for i, anime_name in enumerate(sorted_list.index):\n",
    "        if isinstance(anime_name, str):\n",
    "            try:\n",
    "                anime_id = df_anime[df_anime.Name == anime_name].anime_id.values[0]\n",
    "                english_name = df_anime[df_anime['Name'] == anime_name]['English name'].values[0]\n",
    "                name = english_name if english_name != \"UNKNOWN\" else anime_name\n",
    "                genre = df_anime[df_anime.Name == anime_name].Genres.values[0]\n",
    "                Synopsis = df_anime[df_anime.Name == anime_name].Synopsis.values[0]\n",
    "                n_user_pref = anime_count.get(anime_id, 0)  # Get the total count of users who have watched this anime\n",
    "                recommended_animes.append({\n",
    "                    \"n\": n_user_pref,\n",
    "                    \"anime_name\": anime_name, \n",
    "                    \"Genres\": genre, \n",
    "                    \"Synopsis\": Synopsis\n",
    "                })\n",
    "            except:\n",
    "                pass\n",
    "    return pd.DataFrame(recommended_animes)"
   ]
  },
  {
   "cell_type": "code",
   "execution_count": 30,
   "id": "84fa7a9b",
   "metadata": {
    "execution": {
     "iopub.execute_input": "2023-07-28T06:12:18.378980Z",
     "iopub.status.busy": "2023-07-28T06:12:18.378622Z",
     "iopub.status.idle": "2023-07-28T06:12:19.148725Z",
     "shell.execute_reply": "2023-07-28T06:12:19.147482Z"
    },
    "papermill": {
     "duration": 0.880472,
     "end_time": "2023-07-28T06:12:19.151661",
     "exception": false,
     "start_time": "2023-07-28T06:12:18.271189",
     "status": "completed"
    },
    "tags": []
   },
   "outputs": [
    {
     "name": "stdout",
     "output_type": "stream",
     "text": [
      "\n",
      "> Top recommendations for user: 1250753\n"
     ]
    },
    {
     "data": {
      "text/html": [
       "<div>\n",
       "<style scoped>\n",
       "    .dataframe tbody tr th:only-of-type {\n",
       "        vertical-align: middle;\n",
       "    }\n",
       "\n",
       "    .dataframe tbody tr th {\n",
       "        vertical-align: top;\n",
       "    }\n",
       "\n",
       "    .dataframe thead th {\n",
       "        text-align: right;\n",
       "    }\n",
       "</style>\n",
       "<table border=\"1\" class=\"dataframe\">\n",
       "  <thead>\n",
       "    <tr style=\"text-align: right;\">\n",
       "      <th></th>\n",
       "      <th>n</th>\n",
       "      <th>anime_name</th>\n",
       "      <th>Genres</th>\n",
       "      <th>Synopsis</th>\n",
       "    </tr>\n",
       "  </thead>\n",
       "  <tbody>\n",
       "    <tr>\n",
       "      <th>0</th>\n",
       "      <td>90132</td>\n",
       "      <td>Bleach</td>\n",
       "      <td>Action, Adventure, Fantasy</td>\n",
       "      <td>Ichigo Kurosaki is an ordinary high schooler—until his family is attacked by a Hollow, a corrupt spirit that seeks to devour human souls. It is then that he meets a Soul Reaper named Rukia Kuchiki, who gets injured while protecting Ichigo's family from the assailant. To save his family, Ichigo accepts Rukia's offer of taking her powers and becomes a Soul Reaper as a result.\\n\\nHowever, as Rukia is unable to regain her powers, Ichigo is given the daunting task of hunting down the Hollows that plague their town. However, he is not alone in his fight, as he is later joined by his friends—classmates Orihime Inoue, Yasutora Sado, and Uryuu Ishida—who each have their own unique abilities. As Ichigo and his comrades get used to their new duties and support each other on and off the battlefield, the young Soul Reaper soon learns that the Hollows are not the only real threat to the human world.</td>\n",
       "    </tr>\n",
       "    <tr>\n",
       "      <th>1</th>\n",
       "      <td>33204</td>\n",
       "      <td>Rurouni Kenshin: Meiji Kenkaku Romantan</td>\n",
       "      <td>Action, Adventure, Comedy, Romance</td>\n",
       "      <td>In the final years of the Bakumatsu era lived a legendary assassin known as Hitokiri Battousai. Feared as a merciless killer, he was unmatched throughout the country, but mysteriously disappeared at the peak of the Japanese Revolution. It has been ten peaceful years since then, but the very mention of Battousai still strikes terror into the hearts of war veterans.\\n\\nUnbeknownst to them, Battousai has abandoned his bloodstained lifestyle in an effort to repent for his sins, now living as Kenshin Himura, a wandering swordsman with a cheerful attitude and a strong will. Vowing never to kill again, Kenshin dedicates himself to protecting the weak. One day, he stumbles across Kaoru Kamiya at her kendo dojo, which is being threatened by an impostor claiming to be Battousai. After receiving help from Kenshin, Kaoru allows him to stay at the dojo, and so the former assassin temporarily ceases his travels.\\n\\nRurouni Kenshin: Meiji Kenkaku Romantan tells the story of Kenshin as he strives to save those in need of saving. However, as enemies from both past and present begin to emerge, will the reformed killer be able to uphold his new ideals?</td>\n",
       "    </tr>\n",
       "    <tr>\n",
       "      <th>2</th>\n",
       "      <td>45719</td>\n",
       "      <td>Shingeki no Kyojin</td>\n",
       "      <td>Action, Award Winning, Drama, Suspense</td>\n",
       "      <td>Centuries ago, mankind was slaughtered to near extinction by monstrous humanoid creatures called Titans, forcing humans to hide in fear behind enormous concentric walls. What makes these giants truly terrifying is that their taste for human flesh is not born out of hunger but what appears to be out of pleasure. To ensure their survival, the remnants of humanity began living within defensive barriers, resulting in one hundred years without a single titan encounter. However, that fragile calm is soon shattered when a colossal Titan manages to breach the supposedly impregnable outer wall, reigniting the fight for survival against the man-eating abominations.\\n\\nAfter witnessing a horrific personal loss at the hands of the invading creatures, Eren Yeager dedicates his life to their eradication by enlisting into the Survey Corps, an elite military unit that combats the merciless humanoids outside the protection of the walls. Eren, his adopted sister Mikasa Ackerman, and his childhood friend Armin Arlert join the brutal war against the Titans and race to discover a way of defeating them before the last walls are breached.</td>\n",
       "    </tr>\n",
       "    <tr>\n",
       "      <th>3</th>\n",
       "      <td>89579</td>\n",
       "      <td>Naruto</td>\n",
       "      <td>Action, Adventure, Fantasy</td>\n",
       "      <td>Moments prior to Naruto Uzumaki's birth, a huge demon known as the Kyuubi, the Nine-Tailed Fox, attacked Konohagakure, the Hidden Leaf Village, and wreaked havoc. In order to put an end to the Kyuubi's rampage, the leader of the village, the Fourth Hokage, sacrificed his life and sealed the monstrous beast inside the newborn Naruto.\\n\\nNow, Naruto is a hyperactive and knuckle-headed ninja still living in Konohagakure. Shunned because of the Kyuubi inside him, Naruto struggles to find his place in the village, while his burning desire to become the Hokage of Konohagakure leads him not only to some great new friends, but also some deadly foes.</td>\n",
       "    </tr>\n",
       "    <tr>\n",
       "      <th>4</th>\n",
       "      <td>93001</td>\n",
       "      <td>Fullmetal Alchemist</td>\n",
       "      <td>Action, Adventure, Award Winning, Drama, Fantasy</td>\n",
       "      <td>Edward Elric, a young, brilliant alchemist, has lost much in his twelve-year life: when he and his brother Alphonse try to resurrect their dead mother through the forbidden act of human transmutation, Edward loses his brother as well as two of his limbs. With his supreme alchemy skills, Edward binds Alphonse's soul to a large suit of armor.\\n\\nA year later, Edward, now promoted to the fullmetal alchemist of the state, embarks on a journey with his younger brother to obtain the Philosopher's Stone. The fabled mythical object is rumored to be capable of amplifying an alchemist's abilities by leaps and bounds, thus allowing them to override the fundamental law of alchemy: to gain something, an alchemist must sacrifice something of equal value. Edward hopes to draw into the military's resources to find the fabled stone and restore his and Alphonse's bodies to normal. However, the Elric brothers soon discover that there is more to the legendary stone than meets the eye, as they are led to the epicenter of a far darker battle than they could have ever imagined.</td>\n",
       "    </tr>\n",
       "    <tr>\n",
       "      <th>5</th>\n",
       "      <td>52958</td>\n",
       "      <td>Dragon Ball Z</td>\n",
       "      <td>Action, Adventure, Comedy, Fantasy</td>\n",
       "      <td>Five years after winning the World Martial Arts tournament, Gokuu is now living a peaceful life with his wife and son. This changes, however, with the arrival of a mysterious enemy named Raditz who presents himself as Gokuu's long-lost brother. He reveals that Gokuu is a warrior from the once powerful but now virtually extinct Saiyan race, whose homeworld was completely annihilated. When he was sent to Earth as a baby, Gokuu's sole purpose was to conquer and destroy the planet; but after suffering amnesia from a head injury, his violent and savage nature changed, and instead was raised as a kind and well-mannered boy, now fighting to protect others.\\n\\nWith his failed attempt at forcibly recruiting Gokuu as an ally, Raditz warns Gokuu's friends of a new threat that's rapidly approaching Earth—one that could plunge Earth into an intergalactic conflict and cause the heavens themselves to shake. A war will be fought over the seven mystical dragon balls, and only the strongest will survive in Dragon Ball Z.</td>\n",
       "    </tr>\n",
       "    <tr>\n",
       "      <th>6</th>\n",
       "      <td>56206</td>\n",
       "      <td>Toradora!</td>\n",
       "      <td>Drama, Romance</td>\n",
       "      <td>Ryuuji Takasu is a gentle high school student with a love for housework; but in contrast to his kind nature, he has an intimidating face that often gets him labeled as a delinquent. On the other hand is Taiga Aisaka, a small, doll-like student, who is anything but a cute and fragile girl. Equipped with a wooden katana and feisty personality, Taiga is known throughout the school as the \"Palmtop Tiger.\"\\n\\nOne day, an embarrassing mistake causes the two students to cross paths. Ryuuji discovers that Taiga actually has a sweet side: she has a crush on the popular vice president, Yuusaku Kitamura, who happens to be his best friend. But things only get crazier when Ryuuji reveals that he has a crush on Minori Kushieda—Taiga's best friend!\\n\\nToradora! is a romantic comedy that follows this odd duo as they embark on a quest to help each other with their respective crushes, forming an unlikely alliance in the process.</td>\n",
       "    </tr>\n",
       "    <tr>\n",
       "      <th>7</th>\n",
       "      <td>44094</td>\n",
       "      <td>Dragon Ball</td>\n",
       "      <td>Action, Adventure, Comedy, Fantasy</td>\n",
       "      <td>Gokuu Son is a young boy who lives in the woods all alone—that is, until a girl named Bulma runs into him in her search for a set of magical objects called the \"Dragon Balls.\" Since the artifacts are said to grant one wish to whoever collects all seven, Bulma hopes to gather them and wish for a perfect boyfriend. Gokuu happens to be in possession of a dragon ball, but unfortunately for Bulma, he refuses to part ways with it, so she makes him a deal: he can tag along on her journey if he lets her borrow the dragon ball's power. With that, the two set off on the journey of a lifetime.\\n\\nThey don't go on the journey alone. On the way, they meet the old Muten-Roshi and wannabe disciple Kuririn, with whom Gokuu trains to become a stronger martial artist for the upcoming World Martial Arts Tournament. However, it's not all fun and games; the ability to make any wish come true is a powerful one, and there are others who would do much worse than just wishing for a boyfriend. To stop those who would try to abuse the legendary power, they train to become stronger fighters, using their newfound strength to help the people around them along the way.</td>\n",
       "    </tr>\n",
       "    <tr>\n",
       "      <th>8</th>\n",
       "      <td>63084</td>\n",
       "      <td>Naruto: Shippuuden</td>\n",
       "      <td>Action, Adventure, Fantasy</td>\n",
       "      <td>It has been two and a half years since Naruto Uzumaki left Konohagakure, the Hidden Leaf Village, for intense training following events which fueled his desire to be stronger. Now Akatsuki, the mysterious organization of elite rogue ninja, is closing in on their grand plan which may threaten the safety of the entire shinobi world.\\n \\nAlthough Naruto is older and sinister events loom on the horizon, he has changed little in personality—still rambunctious and childish—though he is now far more confident and possesses an even greater determination to protect his friends and home. Come whatever may, Naruto will carry on with the fight for what is important to him, even at the expense of his own body, in the continuation of the saga about the boy who wishes to become Hokage.</td>\n",
       "    </tr>\n",
       "    <tr>\n",
       "      <th>9</th>\n",
       "      <td>6841</td>\n",
       "      <td>Rurouni Kenshin: Meiji Kenkaku Romantan - Ishinshishi e no Chinkonka</td>\n",
       "      <td>Drama</td>\n",
       "      <td>The war against the Tokugawa Shogunate ended years ago. But there are some who are not happy with the outcome. Shigure Takimi watched his friends and family get slashed down in the name of freedom and prosperity. Now he and a band of desperate rebels have sworn to settle one final score. Only one man stands in their way: Kenshin Himura. But when Shigure discovers Kenshin's true identity as the Hitokiri Battousai, his fight becomes a personal vendetta.\\n\\n(Source: ANN)</td>\n",
       "    </tr>\n",
       "  </tbody>\n",
       "</table>\n",
       "</div>"
      ],
      "text/plain": [
       "       n  \\\n",
       "0  90132   \n",
       "1  33204   \n",
       "2  45719   \n",
       "3  89579   \n",
       "4  93001   \n",
       "5  52958   \n",
       "6  56206   \n",
       "7  44094   \n",
       "8  63084   \n",
       "9   6841   \n",
       "\n",
       "                                                             anime_name  \\\n",
       "0                                                                Bleach   \n",
       "1                               Rurouni Kenshin: Meiji Kenkaku Romantan   \n",
       "2                                                    Shingeki no Kyojin   \n",
       "3                                                                Naruto   \n",
       "4                                                   Fullmetal Alchemist   \n",
       "5                                                         Dragon Ball Z   \n",
       "6                                                             Toradora!   \n",
       "7                                                           Dragon Ball   \n",
       "8                                                    Naruto: Shippuuden   \n",
       "9  Rurouni Kenshin: Meiji Kenkaku Romantan - Ishinshishi e no Chinkonka   \n",
       "\n",
       "                                             Genres  \\\n",
       "0                        Action, Adventure, Fantasy   \n",
       "1                Action, Adventure, Comedy, Romance   \n",
       "2            Action, Award Winning, Drama, Suspense   \n",
       "3                        Action, Adventure, Fantasy   \n",
       "4  Action, Adventure, Award Winning, Drama, Fantasy   \n",
       "5                Action, Adventure, Comedy, Fantasy   \n",
       "6                                    Drama, Romance   \n",
       "7                Action, Adventure, Comedy, Fantasy   \n",
       "8                        Action, Adventure, Fantasy   \n",
       "9                                             Drama   \n",
       "\n",
       "                                                                                                                                                                                                                                                                                                                                                                                                                                                                                                                                                                                                                                                                                                                                                                                                                                                                                                                                                                                                                                                                                                                                                                                               Synopsis  \n",
       "0                                                                                                                                                                                                                                                                    Ichigo Kurosaki is an ordinary high schooler—until his family is attacked by a Hollow, a corrupt spirit that seeks to devour human souls. It is then that he meets a Soul Reaper named Rukia Kuchiki, who gets injured while protecting Ichigo's family from the assailant. To save his family, Ichigo accepts Rukia's offer of taking her powers and becomes a Soul Reaper as a result.\\n\\nHowever, as Rukia is unable to regain her powers, Ichigo is given the daunting task of hunting down the Hollows that plague their town. However, he is not alone in his fight, as he is later joined by his friends—classmates Orihime Inoue, Yasutora Sado, and Uryuu Ishida—who each have their own unique abilities. As Ichigo and his comrades get used to their new duties and support each other on and off the battlefield, the young Soul Reaper soon learns that the Hollows are not the only real threat to the human world.  \n",
       "1       In the final years of the Bakumatsu era lived a legendary assassin known as Hitokiri Battousai. Feared as a merciless killer, he was unmatched throughout the country, but mysteriously disappeared at the peak of the Japanese Revolution. It has been ten peaceful years since then, but the very mention of Battousai still strikes terror into the hearts of war veterans.\\n\\nUnbeknownst to them, Battousai has abandoned his bloodstained lifestyle in an effort to repent for his sins, now living as Kenshin Himura, a wandering swordsman with a cheerful attitude and a strong will. Vowing never to kill again, Kenshin dedicates himself to protecting the weak. One day, he stumbles across Kaoru Kamiya at her kendo dojo, which is being threatened by an impostor claiming to be Battousai. After receiving help from Kenshin, Kaoru allows him to stay at the dojo, and so the former assassin temporarily ceases his travels.\\n\\nRurouni Kenshin: Meiji Kenkaku Romantan tells the story of Kenshin as he strives to save those in need of saving. However, as enemies from both past and present begin to emerge, will the reformed killer be able to uphold his new ideals?  \n",
       "2                         Centuries ago, mankind was slaughtered to near extinction by monstrous humanoid creatures called Titans, forcing humans to hide in fear behind enormous concentric walls. What makes these giants truly terrifying is that their taste for human flesh is not born out of hunger but what appears to be out of pleasure. To ensure their survival, the remnants of humanity began living within defensive barriers, resulting in one hundred years without a single titan encounter. However, that fragile calm is soon shattered when a colossal Titan manages to breach the supposedly impregnable outer wall, reigniting the fight for survival against the man-eating abominations.\\n\\nAfter witnessing a horrific personal loss at the hands of the invading creatures, Eren Yeager dedicates his life to their eradication by enlisting into the Survey Corps, an elite military unit that combats the merciless humanoids outside the protection of the walls. Eren, his adopted sister Mikasa Ackerman, and his childhood friend Armin Arlert join the brutal war against the Titans and race to discover a way of defeating them before the last walls are breached.  \n",
       "3                                                                                                                                                                                                                                                                                                                                                                                                                                                                                                                             Moments prior to Naruto Uzumaki's birth, a huge demon known as the Kyuubi, the Nine-Tailed Fox, attacked Konohagakure, the Hidden Leaf Village, and wreaked havoc. In order to put an end to the Kyuubi's rampage, the leader of the village, the Fourth Hokage, sacrificed his life and sealed the monstrous beast inside the newborn Naruto.\\n\\nNow, Naruto is a hyperactive and knuckle-headed ninja still living in Konohagakure. Shunned because of the Kyuubi inside him, Naruto struggles to find his place in the village, while his burning desire to become the Hokage of Konohagakure leads him not only to some great new friends, but also some deadly foes.  \n",
       "4                                                                                       Edward Elric, a young, brilliant alchemist, has lost much in his twelve-year life: when he and his brother Alphonse try to resurrect their dead mother through the forbidden act of human transmutation, Edward loses his brother as well as two of his limbs. With his supreme alchemy skills, Edward binds Alphonse's soul to a large suit of armor.\\n\\nA year later, Edward, now promoted to the fullmetal alchemist of the state, embarks on a journey with his younger brother to obtain the Philosopher's Stone. The fabled mythical object is rumored to be capable of amplifying an alchemist's abilities by leaps and bounds, thus allowing them to override the fundamental law of alchemy: to gain something, an alchemist must sacrifice something of equal value. Edward hopes to draw into the military's resources to find the fabled stone and restore his and Alphonse's bodies to normal. However, the Elric brothers soon discover that there is more to the legendary stone than meets the eye, as they are led to the epicenter of a far darker battle than they could have ever imagined.  \n",
       "5                                                                                                                                            Five years after winning the World Martial Arts tournament, Gokuu is now living a peaceful life with his wife and son. This changes, however, with the arrival of a mysterious enemy named Raditz who presents himself as Gokuu's long-lost brother. He reveals that Gokuu is a warrior from the once powerful but now virtually extinct Saiyan race, whose homeworld was completely annihilated. When he was sent to Earth as a baby, Gokuu's sole purpose was to conquer and destroy the planet; but after suffering amnesia from a head injury, his violent and savage nature changed, and instead was raised as a kind and well-mannered boy, now fighting to protect others.\\n\\nWith his failed attempt at forcibly recruiting Gokuu as an ally, Raditz warns Gokuu's friends of a new threat that's rapidly approaching Earth—one that could plunge Earth into an intergalactic conflict and cause the heavens themselves to shake. A war will be fought over the seven mystical dragon balls, and only the strongest will survive in Dragon Ball Z.  \n",
       "6                                                                                                                                                                                                                                          Ryuuji Takasu is a gentle high school student with a love for housework; but in contrast to his kind nature, he has an intimidating face that often gets him labeled as a delinquent. On the other hand is Taiga Aisaka, a small, doll-like student, who is anything but a cute and fragile girl. Equipped with a wooden katana and feisty personality, Taiga is known throughout the school as the \"Palmtop Tiger.\"\\n\\nOne day, an embarrassing mistake causes the two students to cross paths. Ryuuji discovers that Taiga actually has a sweet side: she has a crush on the popular vice president, Yuusaku Kitamura, who happens to be his best friend. But things only get crazier when Ryuuji reveals that he has a crush on Minori Kushieda—Taiga's best friend!\\n\\nToradora! is a romantic comedy that follows this odd duo as they embark on a quest to help each other with their respective crushes, forming an unlikely alliance in the process.  \n",
       "7  Gokuu Son is a young boy who lives in the woods all alone—that is, until a girl named Bulma runs into him in her search for a set of magical objects called the \"Dragon Balls.\" Since the artifacts are said to grant one wish to whoever collects all seven, Bulma hopes to gather them and wish for a perfect boyfriend. Gokuu happens to be in possession of a dragon ball, but unfortunately for Bulma, he refuses to part ways with it, so she makes him a deal: he can tag along on her journey if he lets her borrow the dragon ball's power. With that, the two set off on the journey of a lifetime.\\n\\nThey don't go on the journey alone. On the way, they meet the old Muten-Roshi and wannabe disciple Kuririn, with whom Gokuu trains to become a stronger martial artist for the upcoming World Martial Arts Tournament. However, it's not all fun and games; the ability to make any wish come true is a powerful one, and there are others who would do much worse than just wishing for a boyfriend. To stop those who would try to abuse the legendary power, they train to become stronger fighters, using their newfound strength to help the people around them along the way.  \n",
       "8                                                                                                                                                                                                                                                                                                                                                                                         It has been two and a half years since Naruto Uzumaki left Konohagakure, the Hidden Leaf Village, for intense training following events which fueled his desire to be stronger. Now Akatsuki, the mysterious organization of elite rogue ninja, is closing in on their grand plan which may threaten the safety of the entire shinobi world.\\n \\nAlthough Naruto is older and sinister events loom on the horizon, he has changed little in personality—still rambunctious and childish—though he is now far more confident and possesses an even greater determination to protect his friends and home. Come whatever may, Naruto will carry on with the fight for what is important to him, even at the expense of his own body, in the continuation of the saga about the boy who wishes to become Hokage.  \n",
       "9                                                                                                                                                                                                                                                                                                                                                                                                                                                                                                                                                                                                                                                                                                              The war against the Tokugawa Shogunate ended years ago. But there are some who are not happy with the outcome. Shigure Takimi watched his friends and family get slashed down in the name of freedom and prosperity. Now he and a band of desperate rebels have sworn to settle one final score. Only one man stands in their way: Kenshin Himura. But when Shigure discovers Kenshin's true identity as the Hitokiri Battousai, his fight becomes a personal vendetta.\\n\\n(Source: ANN)  "
      ]
     },
     "execution_count": 30,
     "metadata": {},
     "output_type": "execute_result"
    }
   ],
   "source": [
    "# Get recommended animes for the random user\n",
    "recommended_animes = get_recommended_animes(similar_users, user_pref, n=10)\n",
    "\n",
    "print('\\n> Top recommendations for user: {}'.format(random_user))\n",
    "recommended_animes"
   ]
  },
  {
   "cell_type": "markdown",
   "id": "017e91fb",
   "metadata": {
    "papermill": {
     "duration": 0.106088,
     "end_time": "2023-07-28T06:12:19.364621",
     "exception": false,
     "start_time": "2023-07-28T06:12:19.258533",
     "status": "completed"
    },
    "tags": []
   },
   "source": [
    "# Model training (content-based filtering)"
   ]
  },
  {
   "cell_type": "code",
   "execution_count": 31,
   "id": "1d00a22d",
   "metadata": {
    "execution": {
     "iopub.execute_input": "2023-07-28T06:12:19.580946Z",
     "iopub.status.busy": "2023-07-28T06:12:19.579973Z",
     "iopub.status.idle": "2023-07-28T06:12:27.324804Z",
     "shell.execute_reply": "2023-07-28T06:12:27.323530Z"
    },
    "papermill": {
     "duration": 7.856176,
     "end_time": "2023-07-28T06:12:27.327823",
     "exception": false,
     "start_time": "2023-07-28T06:12:19.471647",
     "status": "completed"
    },
    "tags": []
   },
   "outputs": [],
   "source": [
    "# Create a TF-IDF vectorizer\n",
    "tfidf = TfidfVectorizer(stop_words='english')\n",
    "\n",
    "# Define a generator to compute TF-IDF matrix on the fly\n",
    "tfidf_matrix_generator = tfidf.fit_transform((genre for genre in df_anime['Genres'].values.astype('U')))\n",
    "\n",
    "# Compute cosine similarity matrix as a sparse matrix\n",
    "cosine_sim_sparse = linear_kernel(tfidf_matrix_generator, tfidf_matrix_generator)"
   ]
  },
  {
   "cell_type": "markdown",
   "id": "b7c7096a",
   "metadata": {
    "papermill": {
     "duration": 0.106849,
     "end_time": "2023-07-28T06:12:27.542275",
     "exception": false,
     "start_time": "2023-07-28T06:12:27.435426",
     "status": "completed"
    },
    "tags": []
   },
   "source": [
    "# 2: Content-Based Recommendation"
   ]
  },
  {
   "cell_type": "code",
   "execution_count": 32,
   "id": "b873dca3",
   "metadata": {
    "execution": {
     "iopub.execute_input": "2023-07-28T06:12:27.757545Z",
     "iopub.status.busy": "2023-07-28T06:12:27.757149Z",
     "iopub.status.idle": "2023-07-28T06:12:27.766756Z",
     "shell.execute_reply": "2023-07-28T06:12:27.765753Z"
    },
    "papermill": {
     "duration": 0.119557,
     "end_time": "2023-07-28T06:12:27.769044",
     "exception": false,
     "start_time": "2023-07-28T06:12:27.649487",
     "status": "completed"
    },
    "tags": []
   },
   "outputs": [],
   "source": [
    "# Function to get recommendations based on cosine similarity, genre, and ratings based on score\n",
    "def get_recommendations(title, cosine_sim, df):\n",
    "    idx = df_anime[df_anime['Name'] == title].index[0]\n",
    "\n",
    "    # Compute the similarity scores between the anime at the given index and all other animes\n",
    "    sim_scores = list(enumerate(cosine_sim[idx]))\n",
    "\n",
    "    # Filter out animes with unknown scores\n",
    "    valid_scores = [x for x in sim_scores if df_anime.iloc[x[0]]['Score'] != \"UNKNOWN\"]\n",
    "\n",
    "    # Sort the valid anime similarity scores based on the cosine similarity and ratings score in descending order\n",
    "    sorted_scores = sorted(valid_scores, key=lambda x: (x[1], df_anime.iloc[x[0]]['Score']), reverse=True)\n",
    "\n",
    "    # Get the top 10 similar animes (excluding the anime itself)\n",
    "    top_animes = [x for x in sorted_scores if x[0] != idx][:10]\n",
    "\n",
    "    # Extract the indices of the recommended animes\n",
    "    recommended_indices = [idx for idx, _ in top_animes]\n",
    "    recommended_animes = df_anime.iloc[recommended_indices][['Name', 'Genres', 'Score']]\n",
    "    return recommended_animes"
   ]
  },
  {
   "cell_type": "code",
   "execution_count": 33,
   "id": "53ec5c9f",
   "metadata": {
    "execution": {
     "iopub.execute_input": "2023-07-28T06:12:27.982982Z",
     "iopub.status.busy": "2023-07-28T06:12:27.982153Z",
     "iopub.status.idle": "2023-07-28T06:12:32.585163Z",
     "shell.execute_reply": "2023-07-28T06:12:32.584089Z"
    },
    "papermill": {
     "duration": 4.712133,
     "end_time": "2023-07-28T06:12:32.587327",
     "exception": false,
     "start_time": "2023-07-28T06:12:27.875194",
     "status": "completed"
    },
    "tags": []
   },
   "outputs": [
    {
     "name": "stdout",
     "output_type": "stream",
     "text": [
      "Recommendations for \"Kono Subarashii Sekai ni Shukufuku wo!\":\n"
     ]
    },
    {
     "data": {
      "text/html": [
       "<div>\n",
       "<style scoped>\n",
       "    .dataframe tbody tr th:only-of-type {\n",
       "        vertical-align: middle;\n",
       "    }\n",
       "\n",
       "    .dataframe tbody tr th {\n",
       "        vertical-align: top;\n",
       "    }\n",
       "\n",
       "    .dataframe thead th {\n",
       "        text-align: right;\n",
       "    }\n",
       "</style>\n",
       "<table border=\"1\" class=\"dataframe\">\n",
       "  <thead>\n",
       "    <tr style=\"text-align: right;\">\n",
       "      <th></th>\n",
       "      <th>Name</th>\n",
       "      <th>Genres</th>\n",
       "      <th>Score</th>\n",
       "    </tr>\n",
       "  </thead>\n",
       "  <tbody>\n",
       "    <tr>\n",
       "      <th>14578</th>\n",
       "      <td>Kono Subarashii Sekai ni Shukufuku wo! Movie: Kurenai Densetsu</td>\n",
       "      <td>Adventure, Comedy, Fantasy</td>\n",
       "      <td>8.45</td>\n",
       "    </tr>\n",
       "    <tr>\n",
       "      <th>11572</th>\n",
       "      <td>Kono Subarashii Sekai ni Shukufuku wo! 2</td>\n",
       "      <td>Adventure, Comedy, Fantasy</td>\n",
       "      <td>8.27</td>\n",
       "    </tr>\n",
       "    <tr>\n",
       "      <th>6241</th>\n",
       "      <td>Doraemon Movie 31: Shin Nobita to Tetsujin Heidan - Habatake Tenshi-tachi</td>\n",
       "      <td>Adventure, Comedy, Fantasy</td>\n",
       "      <td>8.14</td>\n",
       "    </tr>\n",
       "    <tr>\n",
       "      <th>12451</th>\n",
       "      <td>Kono Subarashii Sekai ni Shukufuku wo! 2: Kono Subarashii Geijutsu ni Shukufuku wo!</td>\n",
       "      <td>Adventure, Comedy, Fantasy</td>\n",
       "      <td>8.03</td>\n",
       "    </tr>\n",
       "    <tr>\n",
       "      <th>502</th>\n",
       "      <td>Slayers Next</td>\n",
       "      <td>Adventure, Comedy, Fantasy</td>\n",
       "      <td>8.02</td>\n",
       "    </tr>\n",
       "    <tr>\n",
       "      <th>1068</th>\n",
       "      <td>Slayers Try</td>\n",
       "      <td>Adventure, Comedy, Fantasy</td>\n",
       "      <td>7.81</td>\n",
       "    </tr>\n",
       "    <tr>\n",
       "      <th>11859</th>\n",
       "      <td>Little Witch Academia (TV)</td>\n",
       "      <td>Adventure, Comedy, Fantasy</td>\n",
       "      <td>7.81</td>\n",
       "    </tr>\n",
       "    <tr>\n",
       "      <th>12531</th>\n",
       "      <td>Mahoujin Guruguru (2017)</td>\n",
       "      <td>Adventure, Comedy, Fantasy</td>\n",
       "      <td>7.81</td>\n",
       "    </tr>\n",
       "    <tr>\n",
       "      <th>7105</th>\n",
       "      <td>Little Witch Academia</td>\n",
       "      <td>Adventure, Comedy, Fantasy</td>\n",
       "      <td>7.8</td>\n",
       "    </tr>\n",
       "    <tr>\n",
       "      <th>8061</th>\n",
       "      <td>Little Witch Academia: Mahoujikake no Parade</td>\n",
       "      <td>Adventure, Comedy, Fantasy</td>\n",
       "      <td>7.75</td>\n",
       "    </tr>\n",
       "  </tbody>\n",
       "</table>\n",
       "</div>"
      ],
      "text/plain": [
       "                                                                                      Name  \\\n",
       "14578                       Kono Subarashii Sekai ni Shukufuku wo! Movie: Kurenai Densetsu   \n",
       "11572                                             Kono Subarashii Sekai ni Shukufuku wo! 2   \n",
       "6241             Doraemon Movie 31: Shin Nobita to Tetsujin Heidan - Habatake Tenshi-tachi   \n",
       "12451  Kono Subarashii Sekai ni Shukufuku wo! 2: Kono Subarashii Geijutsu ni Shukufuku wo!   \n",
       "502                                                                           Slayers Next   \n",
       "1068                                                                           Slayers Try   \n",
       "11859                                                           Little Witch Academia (TV)   \n",
       "12531                                                             Mahoujin Guruguru (2017)   \n",
       "7105                                                                 Little Witch Academia   \n",
       "8061                                          Little Witch Academia: Mahoujikake no Parade   \n",
       "\n",
       "                           Genres Score  \n",
       "14578  Adventure, Comedy, Fantasy  8.45  \n",
       "11572  Adventure, Comedy, Fantasy  8.27  \n",
       "6241   Adventure, Comedy, Fantasy  8.14  \n",
       "12451  Adventure, Comedy, Fantasy  8.03  \n",
       "502    Adventure, Comedy, Fantasy  8.02  \n",
       "1068   Adventure, Comedy, Fantasy  7.81  \n",
       "11859  Adventure, Comedy, Fantasy  7.81  \n",
       "12531  Adventure, Comedy, Fantasy  7.81  \n",
       "7105   Adventure, Comedy, Fantasy   7.8  \n",
       "8061   Adventure, Comedy, Fantasy  7.75  "
      ]
     },
     "execution_count": 33,
     "metadata": {},
     "output_type": "execute_result"
    }
   ],
   "source": [
    "# Example usage: Get recommendations for an anime\n",
    "anime_title = 'Kono Subarashii Sekai ni Shukufuku wo!'\n",
    "recommendations = get_recommendations(anime_title, cosine_sim_sparse, df_anime)\n",
    "print(f'Recommendations for \"{anime_title}\":')\n",
    "recommendations"
   ]
  },
  {
   "cell_type": "code",
   "execution_count": 34,
   "id": "f76cad82",
   "metadata": {
    "execution": {
     "iopub.execute_input": "2023-07-28T06:12:32.806817Z",
     "iopub.status.busy": "2023-07-28T06:12:32.805912Z",
     "iopub.status.idle": "2023-07-28T06:12:37.516685Z",
     "shell.execute_reply": "2023-07-28T06:12:37.515404Z"
    },
    "papermill": {
     "duration": 4.823355,
     "end_time": "2023-07-28T06:12:37.518909",
     "exception": false,
     "start_time": "2023-07-28T06:12:32.695554",
     "status": "completed"
    },
    "tags": []
   },
   "outputs": [
    {
     "name": "stdout",
     "output_type": "stream",
     "text": [
      "Recommendations for \"One Piece\":\n"
     ]
    },
    {
     "data": {
      "text/html": [
       "<div>\n",
       "<style scoped>\n",
       "    .dataframe tbody tr th:only-of-type {\n",
       "        vertical-align: middle;\n",
       "    }\n",
       "\n",
       "    .dataframe tbody tr th {\n",
       "        vertical-align: top;\n",
       "    }\n",
       "\n",
       "    .dataframe thead th {\n",
       "        text-align: right;\n",
       "    }\n",
       "</style>\n",
       "<table border=\"1\" class=\"dataframe\">\n",
       "  <thead>\n",
       "    <tr style=\"text-align: right;\">\n",
       "      <th></th>\n",
       "      <th>Name</th>\n",
       "      <th>Genres</th>\n",
       "      <th>Score</th>\n",
       "    </tr>\n",
       "  </thead>\n",
       "  <tbody>\n",
       "    <tr>\n",
       "      <th>16617</th>\n",
       "      <td>Bleach: Sennen Kessen-hen</td>\n",
       "      <td>Action, Adventure, Fantasy</td>\n",
       "      <td>9.07</td>\n",
       "    </tr>\n",
       "    <tr>\n",
       "      <th>6456</th>\n",
       "      <td>Hunter x Hunter (2011)</td>\n",
       "      <td>Action, Adventure, Fantasy</td>\n",
       "      <td>9.04</td>\n",
       "    </tr>\n",
       "    <tr>\n",
       "      <th>115</th>\n",
       "      <td>Hunter x Hunter</td>\n",
       "      <td>Action, Adventure, Fantasy</td>\n",
       "      <td>8.41</td>\n",
       "    </tr>\n",
       "    <tr>\n",
       "      <th>116</th>\n",
       "      <td>Hunter x Hunter: Original Video Animation</td>\n",
       "      <td>Action, Adventure, Fantasy</td>\n",
       "      <td>8.31</td>\n",
       "    </tr>\n",
       "    <tr>\n",
       "      <th>1574</th>\n",
       "      <td>Naruto: Shippuuden</td>\n",
       "      <td>Action, Adventure, Fantasy</td>\n",
       "      <td>8.26</td>\n",
       "    </tr>\n",
       "    <tr>\n",
       "      <th>19600</th>\n",
       "      <td>Jigokuraku</td>\n",
       "      <td>Action, Adventure, Fantasy</td>\n",
       "      <td>8.26</td>\n",
       "    </tr>\n",
       "    <tr>\n",
       "      <th>118</th>\n",
       "      <td>Hunter x Hunter: Greed Island Final</td>\n",
       "      <td>Action, Adventure, Fantasy</td>\n",
       "      <td>8.25</td>\n",
       "    </tr>\n",
       "    <tr>\n",
       "      <th>23239</th>\n",
       "      <td>Dungeon ni Deai wo Motomeru no wa Machigatteiru Darou ka IV: Fuka Shou - Yakusai-hen</td>\n",
       "      <td>Action, Adventure, Fantasy</td>\n",
       "      <td>8.24</td>\n",
       "    </tr>\n",
       "    <tr>\n",
       "      <th>7799</th>\n",
       "      <td>Magi: The Kingdom of Magic</td>\n",
       "      <td>Action, Adventure, Fantasy</td>\n",
       "      <td>8.22</td>\n",
       "    </tr>\n",
       "    <tr>\n",
       "      <th>14699</th>\n",
       "      <td>One Piece Movie 14: Stampede</td>\n",
       "      <td>Action, Adventure, Fantasy</td>\n",
       "      <td>8.22</td>\n",
       "    </tr>\n",
       "  </tbody>\n",
       "</table>\n",
       "</div>"
      ],
      "text/plain": [
       "                                                                                       Name  \\\n",
       "16617                                                             Bleach: Sennen Kessen-hen   \n",
       "6456                                                                 Hunter x Hunter (2011)   \n",
       "115                                                                         Hunter x Hunter   \n",
       "116                                               Hunter x Hunter: Original Video Animation   \n",
       "1574                                                                     Naruto: Shippuuden   \n",
       "19600                                                                            Jigokuraku   \n",
       "118                                                     Hunter x Hunter: Greed Island Final   \n",
       "23239  Dungeon ni Deai wo Motomeru no wa Machigatteiru Darou ka IV: Fuka Shou - Yakusai-hen   \n",
       "7799                                                             Magi: The Kingdom of Magic   \n",
       "14699                                                          One Piece Movie 14: Stampede   \n",
       "\n",
       "                           Genres Score  \n",
       "16617  Action, Adventure, Fantasy  9.07  \n",
       "6456   Action, Adventure, Fantasy  9.04  \n",
       "115    Action, Adventure, Fantasy  8.41  \n",
       "116    Action, Adventure, Fantasy  8.31  \n",
       "1574   Action, Adventure, Fantasy  8.26  \n",
       "19600  Action, Adventure, Fantasy  8.26  \n",
       "118    Action, Adventure, Fantasy  8.25  \n",
       "23239  Action, Adventure, Fantasy  8.24  \n",
       "7799   Action, Adventure, Fantasy  8.22  \n",
       "14699  Action, Adventure, Fantasy  8.22  "
      ]
     },
     "execution_count": 34,
     "metadata": {},
     "output_type": "execute_result"
    }
   ],
   "source": [
    "anime_title = 'One Piece'\n",
    "recommendations = get_recommendations(anime_title, cosine_sim_sparse, df_anime)\n",
    "print(f'Recommendations for \"{anime_title}\":')\n",
    "recommendations"
   ]
  },
  {
   "cell_type": "code",
   "execution_count": null,
   "id": "6af1d072",
   "metadata": {
    "papermill": {
     "duration": 0.116104,
     "end_time": "2023-07-28T06:12:37.755881",
     "exception": false,
     "start_time": "2023-07-28T06:12:37.639777",
     "status": "completed"
    },
    "tags": []
   },
   "outputs": [],
   "source": []
  }
 ],
 "metadata": {
  "kernelspec": {
   "display_name": "Python 3",
   "language": "python",
   "name": "python3"
  },
  "language_info": {
   "codemirror_mode": {
    "name": "ipython",
    "version": 3
   },
   "file_extension": ".py",
   "mimetype": "text/x-python",
   "name": "python",
   "nbconvert_exporter": "python",
   "pygments_lexer": "ipython3",
   "version": "3.10.0"
  },
  "papermill": {
   "default_parameters": {},
   "duration": 227.675184,
   "end_time": "2023-07-28T06:12:41.680415",
   "environment_variables": {},
   "exception": null,
   "input_path": "__notebook__.ipynb",
   "output_path": "__notebook__.ipynb",
   "parameters": {},
   "start_time": "2023-07-28T06:08:54.005231",
   "version": "2.4.0"
  }
 },
 "nbformat": 4,
 "nbformat_minor": 5
}
